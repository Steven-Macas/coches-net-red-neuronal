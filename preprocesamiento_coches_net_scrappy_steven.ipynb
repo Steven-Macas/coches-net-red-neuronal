{
  "nbformat": 4,
  "nbformat_minor": 0,
  "metadata": {
    "colab": {
      "provenance": [],
      "authorship_tag": "ABX9TyMpSMCWpTwyU23DSi20D3DP",
      "include_colab_link": true
    },
    "kernelspec": {
      "name": "python3",
      "display_name": "Python 3"
    },
    "language_info": {
      "name": "python"
    }
  },
  "cells": [
    {
      "cell_type": "markdown",
      "metadata": {
        "id": "view-in-github",
        "colab_type": "text"
      },
      "source": [
        "<a href=\"https://colab.research.google.com/github/Steven-Macas/coches-net-red-neuronal/blob/main/preprocesamiento_coches_net_scrappy_steven.ipynb\" target=\"_parent\"><img src=\"https://colab.research.google.com/assets/colab-badge.svg\" alt=\"Open In Colab\"/></a>"
      ]
    },
    {
      "cell_type": "markdown",
      "source": [
        "# **Scrappy Coches.NET**\n",
        "\n",
        "---\n",
        "\n"
      ],
      "metadata": {
        "id": "xXrFLbGaQ18i"
      }
    },
    {
      "cell_type": "code",
      "source": [
        "from google.colab import drive\n",
        "drive.mount('/content/drive')"
      ],
      "metadata": {
        "colab": {
          "base_uri": "https://localhost:8080/"
        },
        "id": "jZq2UqFcdejp",
        "outputId": "fb072804-5af5-4f54-97fe-32c2864e8134"
      },
      "execution_count": 18,
      "outputs": [
        {
          "output_type": "stream",
          "name": "stdout",
          "text": [
            "Drive already mounted at /content/drive; to attempt to forcibly remount, call drive.mount(\"/content/drive\", force_remount=True).\n"
          ]
        }
      ]
    },
    {
      "cell_type": "code",
      "source": [
        "import os\n",
        "os.chdir('/content/drive/MyDrive/Scrapy_coches')"
      ],
      "metadata": {
        "id": "lZiB3x39disR"
      },
      "execution_count": 19,
      "outputs": []
    },
    {
      "cell_type": "markdown",
      "source": [
        "# **Importación de Librerias**\n",
        "\n",
        "---\n",
        "\n"
      ],
      "metadata": {
        "id": "qAx2Gi36gTH7"
      }
    },
    {
      "cell_type": "code",
      "execution_count": 110,
      "metadata": {
        "id": "60s7Sjn4_o8W"
      },
      "outputs": [],
      "source": [
        "import pandas as pd\n",
        "import numpy as np\n",
        "import json\n",
        "import os\n",
        "import matplotlib.pyplot as plt\n",
        "from sklearn.cluster import KMeans\n",
        "from scipy import stats\n",
        "import seaborn as sns\n",
        "from sklearn.preprocessing import StandardScaler\n",
        "from sklearn.metrics import silhouette_score, davies_bouldin_score\n",
        "from sklearn.preprocessing import OneHotEncoder\n",
        "from tensorflow.keras.utils import to_categorical\n",
        "from sklearn.preprocessing import StandardScaler\n",
        "from keras.models import Sequential\n",
        "from keras.layers import Dense\n",
        "import tensorflow as tf\n",
        "from tensorflow import keras\n",
        "import tensorflow as tf # importación de módulos de keras y gráficos\n",
        "from IPython.display import SVG\n",
        "import livelossplot\n",
        "import math"
      ]
    },
    {
      "cell_type": "markdown",
      "source": [
        "# **Importación de datasets**\n",
        "\n",
        "---\n",
        "\n"
      ],
      "metadata": {
        "id": "DPxUrti7clQE"
      }
    },
    {
      "cell_type": "code",
      "source": [
        "coches_csv = [f for f in os.listdir('/content/drive/MyDrive/Scrapy_coches') if f.endswith('.csv')]\n",
        "\n",
        "df_coches_csv = pd.concat([pd.read_csv(os.path.join('/content/drive/MyDrive/Scrapy_coches', f)) for f in coches_csv])\n",
        "cols_to_select = ['color', 'fueltype', 'km', 'make', 'model', 'price', 'province', 'transmissiontype', 'year', 'seller_type', 'bodytype', 'cubiccapacity', 'doors', 'hp']\n",
        "\n",
        "df_coches_csv = df_coches_csv.rename(columns=lambda x: x.lower())\n",
        "df_coches_csv = df_coches_csv.set_index('id')\n",
        "df_coches_csv = df_coches_csv[cols_to_select]"
      ],
      "metadata": {
        "id": "n5SMovzPeG0g"
      },
      "execution_count": 67,
      "outputs": []
    },
    {
      "cell_type": "code",
      "source": [
        "# Obtener la lista de archivos JSON\n",
        "coches_json = [f for f in os.listdir('/content/drive/MyDrive/Scrapy_coches') if f.endswith('.json')]\n",
        "\n",
        "# Crear un DataFrame vacío para concatenar los resultados\n",
        "df_coches_json = []\n",
        "\n",
        "# Leer cada archivo JSON y concatenar el resultado\n",
        "for f in coches_json:\n",
        "    with open(os.path.join('/content/drive/MyDrive/Scrapy_coches', f), 'r') as file:\n",
        "        data = json.load(file)\n",
        "        if 'resto_de_datos' in data:\n",
        "            df_temporary = pd.json_normalize(data['resto_de_datos'], max_level=1)\n",
        "            df_temporary = df_temporary.rename(columns=lambda x: x.split('.')[-1])\n",
        "            df = pd.json_normalize(data)\n",
        "            df = pd.concat([df, df_temporary], axis=1)\n",
        "        else:\n",
        "            df = pd.json_normalize(data)\n",
        "            # Buscamos si alguna columna contiene el texto 'resto_de_datos'\n",
        "            if 'resto_de_datos.color' in list(df.columns):\n",
        "                df = df.rename(columns=lambda x: x.split('.')[-1])\n",
        "        df = df.rename(columns=lambda x: x.lower())\n",
        "        df = df.drop_duplicates()\n",
        "        df = df.set_index('id')\n",
        "        # print(f,'b:', df.values[0])\n",
        "        cols_to_select = ['color', 'fueltype', 'km', 'make', 'model', 'price', 'province', 'transmissiontype', 'year', 'seller_type', 'bodytype', 'cubiccapacity', 'doors', 'hp']\n",
        "        df = df[cols_to_select]\n",
        "        df_coches_json.append(df)\n",
        "\n",
        "df_coches_json = pd.concat(df_coches_json)"
      ],
      "metadata": {
        "id": "JmTX1GG5eZRc"
      },
      "execution_count": 68,
      "outputs": []
    },
    {
      "cell_type": "markdown",
      "source": [
        "# **Preprocesamiento**\n",
        "\n",
        "---\n",
        "\n"
      ],
      "metadata": {
        "id": "N1tEcXMrZ7V5"
      }
    },
    {
      "cell_type": "code",
      "source": [
        "df_coches_csv"
      ],
      "metadata": {
        "id": "znTMLA2dgQaj",
        "outputId": "90f9f088-8f10-4ce1-dc72-8292814e7076",
        "colab": {
          "base_uri": "https://localhost:8080/",
          "height": 455
        }
      },
      "execution_count": 69,
      "outputs": [
        {
          "output_type": "execute_result",
          "data": {
            "text/plain": [
              "                         color  fueltype        km   make   model    price  \\\n",
              "id                                                                           \n",
              "54737521                  BLUE    Diésel   34798.0   AUDI      A3  22500.0   \n",
              "54641610                   RED  Gasolina  178000.0   AUDI      A1   8990.0   \n",
              "54229249                  GRAY  Gasolina   93000.0   AUDI      Q2  24650.0   \n",
              "54534381                  GRAY    Diésel  133000.0   AUDI      A4  21500.0   \n",
              "54819626                 WHITE    Diésel   65000.0   AUDI      Q3  23700.0   \n",
              "...                        ...       ...       ...    ...     ...      ...   \n",
              "54741384.0    COMMON.COLOR_RED    Diésel   69000.0  MAZDA     CX5  24999.0   \n",
              "54741045.0  COMMON.COLOR_WHITE  Gasolina   63912.0  MAZDA     MX5  19400.0   \n",
              "54742715.0   COMMON.COLOR_BLUE  Gasolina   47000.0  MAZDA  Mazda2  10500.0   \n",
              "54298548.0   COMMON.COLOR_GRAY    Diésel   79000.0  MAZDA     CX5  17400.0   \n",
              "54436131.0   COMMON.COLOR_GRAY    Diésel  130000.0  MAZDA     CX5  16900.0   \n",
              "\n",
              "             province               transmissiontype    year  seller_type  \\\n",
              "id                                                                          \n",
              "54737521      Almería                      AUTOMATIC  2017.0  profesional   \n",
              "54641610     Alicante                         MANUAL  2014.0   particular   \n",
              "54229249     Alicante                         MANUAL  2019.0  profesional   \n",
              "54534381     Asturias                         MANUAL  2016.0   particular   \n",
              "54819626     Alicante                         MANUAL  2017.0   particular   \n",
              "...               ...                            ...     ...          ...   \n",
              "54741384.0     Madrid  COMMON.TRANSMISSION_AUTOMATIC  2019.0  profesional   \n",
              "54741045.0     Madrid     COMMON.TRANSMISSION_MANUAL  2016.0  profesional   \n",
              "54742715.0  Barcelona     COMMON.TRANSMISSION_MANUAL  2015.0   particular   \n",
              "54298548.0  Castellón  COMMON.TRANSMISSION_AUTOMATIC  2015.0  profesional   \n",
              "54436131.0     Girona     COMMON.TRANSMISSION_MANUAL  2015.0  profesional   \n",
              "\n",
              "            bodytype  cubiccapacity  doors     hp  \n",
              "id                                                 \n",
              "54737521     Berlina         1598.0    5.0  116.0  \n",
              "54641610     Berlina         1197.0    3.0   86.0  \n",
              "54229249     4x4 SUV          999.0    5.0  116.0  \n",
              "54534381    Familiar         1968.0    5.0  190.0  \n",
              "54819626     4x4 SUV         1968.0    5.0  150.0  \n",
              "...              ...            ...    ...    ...  \n",
              "54741384.0       NaN         2191.0    5.0  150.0  \n",
              "54741045.0       NaN         1998.0    2.0  160.0  \n",
              "54742715.0       NaN            NaN    5.0    NaN  \n",
              "54298548.0       NaN         2191.0    5.0  150.0  \n",
              "54436131.0       NaN         2191.0    5.0  150.0  \n",
              "\n",
              "[3052 rows x 14 columns]"
            ],
            "text/html": [
              "\n",
              "  <div id=\"df-1b003784-9f76-4e95-8aec-d0294c1a0e4f\">\n",
              "    <div class=\"colab-df-container\">\n",
              "      <div>\n",
              "<style scoped>\n",
              "    .dataframe tbody tr th:only-of-type {\n",
              "        vertical-align: middle;\n",
              "    }\n",
              "\n",
              "    .dataframe tbody tr th {\n",
              "        vertical-align: top;\n",
              "    }\n",
              "\n",
              "    .dataframe thead th {\n",
              "        text-align: right;\n",
              "    }\n",
              "</style>\n",
              "<table border=\"1\" class=\"dataframe\">\n",
              "  <thead>\n",
              "    <tr style=\"text-align: right;\">\n",
              "      <th></th>\n",
              "      <th>color</th>\n",
              "      <th>fueltype</th>\n",
              "      <th>km</th>\n",
              "      <th>make</th>\n",
              "      <th>model</th>\n",
              "      <th>price</th>\n",
              "      <th>province</th>\n",
              "      <th>transmissiontype</th>\n",
              "      <th>year</th>\n",
              "      <th>seller_type</th>\n",
              "      <th>bodytype</th>\n",
              "      <th>cubiccapacity</th>\n",
              "      <th>doors</th>\n",
              "      <th>hp</th>\n",
              "    </tr>\n",
              "    <tr>\n",
              "      <th>id</th>\n",
              "      <th></th>\n",
              "      <th></th>\n",
              "      <th></th>\n",
              "      <th></th>\n",
              "      <th></th>\n",
              "      <th></th>\n",
              "      <th></th>\n",
              "      <th></th>\n",
              "      <th></th>\n",
              "      <th></th>\n",
              "      <th></th>\n",
              "      <th></th>\n",
              "      <th></th>\n",
              "      <th></th>\n",
              "    </tr>\n",
              "  </thead>\n",
              "  <tbody>\n",
              "    <tr>\n",
              "      <th>54737521</th>\n",
              "      <td>BLUE</td>\n",
              "      <td>Diésel</td>\n",
              "      <td>34798.0</td>\n",
              "      <td>AUDI</td>\n",
              "      <td>A3</td>\n",
              "      <td>22500.0</td>\n",
              "      <td>Almería</td>\n",
              "      <td>AUTOMATIC</td>\n",
              "      <td>2017.0</td>\n",
              "      <td>profesional</td>\n",
              "      <td>Berlina</td>\n",
              "      <td>1598.0</td>\n",
              "      <td>5.0</td>\n",
              "      <td>116.0</td>\n",
              "    </tr>\n",
              "    <tr>\n",
              "      <th>54641610</th>\n",
              "      <td>RED</td>\n",
              "      <td>Gasolina</td>\n",
              "      <td>178000.0</td>\n",
              "      <td>AUDI</td>\n",
              "      <td>A1</td>\n",
              "      <td>8990.0</td>\n",
              "      <td>Alicante</td>\n",
              "      <td>MANUAL</td>\n",
              "      <td>2014.0</td>\n",
              "      <td>particular</td>\n",
              "      <td>Berlina</td>\n",
              "      <td>1197.0</td>\n",
              "      <td>3.0</td>\n",
              "      <td>86.0</td>\n",
              "    </tr>\n",
              "    <tr>\n",
              "      <th>54229249</th>\n",
              "      <td>GRAY</td>\n",
              "      <td>Gasolina</td>\n",
              "      <td>93000.0</td>\n",
              "      <td>AUDI</td>\n",
              "      <td>Q2</td>\n",
              "      <td>24650.0</td>\n",
              "      <td>Alicante</td>\n",
              "      <td>MANUAL</td>\n",
              "      <td>2019.0</td>\n",
              "      <td>profesional</td>\n",
              "      <td>4x4 SUV</td>\n",
              "      <td>999.0</td>\n",
              "      <td>5.0</td>\n",
              "      <td>116.0</td>\n",
              "    </tr>\n",
              "    <tr>\n",
              "      <th>54534381</th>\n",
              "      <td>GRAY</td>\n",
              "      <td>Diésel</td>\n",
              "      <td>133000.0</td>\n",
              "      <td>AUDI</td>\n",
              "      <td>A4</td>\n",
              "      <td>21500.0</td>\n",
              "      <td>Asturias</td>\n",
              "      <td>MANUAL</td>\n",
              "      <td>2016.0</td>\n",
              "      <td>particular</td>\n",
              "      <td>Familiar</td>\n",
              "      <td>1968.0</td>\n",
              "      <td>5.0</td>\n",
              "      <td>190.0</td>\n",
              "    </tr>\n",
              "    <tr>\n",
              "      <th>54819626</th>\n",
              "      <td>WHITE</td>\n",
              "      <td>Diésel</td>\n",
              "      <td>65000.0</td>\n",
              "      <td>AUDI</td>\n",
              "      <td>Q3</td>\n",
              "      <td>23700.0</td>\n",
              "      <td>Alicante</td>\n",
              "      <td>MANUAL</td>\n",
              "      <td>2017.0</td>\n",
              "      <td>particular</td>\n",
              "      <td>4x4 SUV</td>\n",
              "      <td>1968.0</td>\n",
              "      <td>5.0</td>\n",
              "      <td>150.0</td>\n",
              "    </tr>\n",
              "    <tr>\n",
              "      <th>...</th>\n",
              "      <td>...</td>\n",
              "      <td>...</td>\n",
              "      <td>...</td>\n",
              "      <td>...</td>\n",
              "      <td>...</td>\n",
              "      <td>...</td>\n",
              "      <td>...</td>\n",
              "      <td>...</td>\n",
              "      <td>...</td>\n",
              "      <td>...</td>\n",
              "      <td>...</td>\n",
              "      <td>...</td>\n",
              "      <td>...</td>\n",
              "      <td>...</td>\n",
              "    </tr>\n",
              "    <tr>\n",
              "      <th>54741384.0</th>\n",
              "      <td>COMMON.COLOR_RED</td>\n",
              "      <td>Diésel</td>\n",
              "      <td>69000.0</td>\n",
              "      <td>MAZDA</td>\n",
              "      <td>CX5</td>\n",
              "      <td>24999.0</td>\n",
              "      <td>Madrid</td>\n",
              "      <td>COMMON.TRANSMISSION_AUTOMATIC</td>\n",
              "      <td>2019.0</td>\n",
              "      <td>profesional</td>\n",
              "      <td>NaN</td>\n",
              "      <td>2191.0</td>\n",
              "      <td>5.0</td>\n",
              "      <td>150.0</td>\n",
              "    </tr>\n",
              "    <tr>\n",
              "      <th>54741045.0</th>\n",
              "      <td>COMMON.COLOR_WHITE</td>\n",
              "      <td>Gasolina</td>\n",
              "      <td>63912.0</td>\n",
              "      <td>MAZDA</td>\n",
              "      <td>MX5</td>\n",
              "      <td>19400.0</td>\n",
              "      <td>Madrid</td>\n",
              "      <td>COMMON.TRANSMISSION_MANUAL</td>\n",
              "      <td>2016.0</td>\n",
              "      <td>profesional</td>\n",
              "      <td>NaN</td>\n",
              "      <td>1998.0</td>\n",
              "      <td>2.0</td>\n",
              "      <td>160.0</td>\n",
              "    </tr>\n",
              "    <tr>\n",
              "      <th>54742715.0</th>\n",
              "      <td>COMMON.COLOR_BLUE</td>\n",
              "      <td>Gasolina</td>\n",
              "      <td>47000.0</td>\n",
              "      <td>MAZDA</td>\n",
              "      <td>Mazda2</td>\n",
              "      <td>10500.0</td>\n",
              "      <td>Barcelona</td>\n",
              "      <td>COMMON.TRANSMISSION_MANUAL</td>\n",
              "      <td>2015.0</td>\n",
              "      <td>particular</td>\n",
              "      <td>NaN</td>\n",
              "      <td>NaN</td>\n",
              "      <td>5.0</td>\n",
              "      <td>NaN</td>\n",
              "    </tr>\n",
              "    <tr>\n",
              "      <th>54298548.0</th>\n",
              "      <td>COMMON.COLOR_GRAY</td>\n",
              "      <td>Diésel</td>\n",
              "      <td>79000.0</td>\n",
              "      <td>MAZDA</td>\n",
              "      <td>CX5</td>\n",
              "      <td>17400.0</td>\n",
              "      <td>Castellón</td>\n",
              "      <td>COMMON.TRANSMISSION_AUTOMATIC</td>\n",
              "      <td>2015.0</td>\n",
              "      <td>profesional</td>\n",
              "      <td>NaN</td>\n",
              "      <td>2191.0</td>\n",
              "      <td>5.0</td>\n",
              "      <td>150.0</td>\n",
              "    </tr>\n",
              "    <tr>\n",
              "      <th>54436131.0</th>\n",
              "      <td>COMMON.COLOR_GRAY</td>\n",
              "      <td>Diésel</td>\n",
              "      <td>130000.0</td>\n",
              "      <td>MAZDA</td>\n",
              "      <td>CX5</td>\n",
              "      <td>16900.0</td>\n",
              "      <td>Girona</td>\n",
              "      <td>COMMON.TRANSMISSION_MANUAL</td>\n",
              "      <td>2015.0</td>\n",
              "      <td>profesional</td>\n",
              "      <td>NaN</td>\n",
              "      <td>2191.0</td>\n",
              "      <td>5.0</td>\n",
              "      <td>150.0</td>\n",
              "    </tr>\n",
              "  </tbody>\n",
              "</table>\n",
              "<p>3052 rows × 14 columns</p>\n",
              "</div>\n",
              "      <button class=\"colab-df-convert\" onclick=\"convertToInteractive('df-1b003784-9f76-4e95-8aec-d0294c1a0e4f')\"\n",
              "              title=\"Convert this dataframe to an interactive table.\"\n",
              "              style=\"display:none;\">\n",
              "        \n",
              "  <svg xmlns=\"http://www.w3.org/2000/svg\" height=\"24px\"viewBox=\"0 0 24 24\"\n",
              "       width=\"24px\">\n",
              "    <path d=\"M0 0h24v24H0V0z\" fill=\"none\"/>\n",
              "    <path d=\"M18.56 5.44l.94 2.06.94-2.06 2.06-.94-2.06-.94-.94-2.06-.94 2.06-2.06.94zm-11 1L8.5 8.5l.94-2.06 2.06-.94-2.06-.94L8.5 2.5l-.94 2.06-2.06.94zm10 10l.94 2.06.94-2.06 2.06-.94-2.06-.94-.94-2.06-.94 2.06-2.06.94z\"/><path d=\"M17.41 7.96l-1.37-1.37c-.4-.4-.92-.59-1.43-.59-.52 0-1.04.2-1.43.59L10.3 9.45l-7.72 7.72c-.78.78-.78 2.05 0 2.83L4 21.41c.39.39.9.59 1.41.59.51 0 1.02-.2 1.41-.59l7.78-7.78 2.81-2.81c.8-.78.8-2.07 0-2.86zM5.41 20L4 18.59l7.72-7.72 1.47 1.35L5.41 20z\"/>\n",
              "  </svg>\n",
              "      </button>\n",
              "      \n",
              "  <style>\n",
              "    .colab-df-container {\n",
              "      display:flex;\n",
              "      flex-wrap:wrap;\n",
              "      gap: 12px;\n",
              "    }\n",
              "\n",
              "    .colab-df-convert {\n",
              "      background-color: #E8F0FE;\n",
              "      border: none;\n",
              "      border-radius: 50%;\n",
              "      cursor: pointer;\n",
              "      display: none;\n",
              "      fill: #1967D2;\n",
              "      height: 32px;\n",
              "      padding: 0 0 0 0;\n",
              "      width: 32px;\n",
              "    }\n",
              "\n",
              "    .colab-df-convert:hover {\n",
              "      background-color: #E2EBFA;\n",
              "      box-shadow: 0px 1px 2px rgba(60, 64, 67, 0.3), 0px 1px 3px 1px rgba(60, 64, 67, 0.15);\n",
              "      fill: #174EA6;\n",
              "    }\n",
              "\n",
              "    [theme=dark] .colab-df-convert {\n",
              "      background-color: #3B4455;\n",
              "      fill: #D2E3FC;\n",
              "    }\n",
              "\n",
              "    [theme=dark] .colab-df-convert:hover {\n",
              "      background-color: #434B5C;\n",
              "      box-shadow: 0px 1px 3px 1px rgba(0, 0, 0, 0.15);\n",
              "      filter: drop-shadow(0px 1px 2px rgba(0, 0, 0, 0.3));\n",
              "      fill: #FFFFFF;\n",
              "    }\n",
              "  </style>\n",
              "\n",
              "      <script>\n",
              "        const buttonEl =\n",
              "          document.querySelector('#df-1b003784-9f76-4e95-8aec-d0294c1a0e4f button.colab-df-convert');\n",
              "        buttonEl.style.display =\n",
              "          google.colab.kernel.accessAllowed ? 'block' : 'none';\n",
              "\n",
              "        async function convertToInteractive(key) {\n",
              "          const element = document.querySelector('#df-1b003784-9f76-4e95-8aec-d0294c1a0e4f');\n",
              "          const dataTable =\n",
              "            await google.colab.kernel.invokeFunction('convertToInteractive',\n",
              "                                                     [key], {});\n",
              "          if (!dataTable) return;\n",
              "\n",
              "          const docLinkHtml = 'Like what you see? Visit the ' +\n",
              "            '<a target=\"_blank\" href=https://colab.research.google.com/notebooks/data_table.ipynb>data table notebook</a>'\n",
              "            + ' to learn more about interactive tables.';\n",
              "          element.innerHTML = '';\n",
              "          dataTable['output_type'] = 'display_data';\n",
              "          await google.colab.output.renderOutput(dataTable, element);\n",
              "          const docLink = document.createElement('div');\n",
              "          docLink.innerHTML = docLinkHtml;\n",
              "          element.appendChild(docLink);\n",
              "        }\n",
              "      </script>\n",
              "    </div>\n",
              "  </div>\n",
              "  "
            ]
          },
          "metadata": {},
          "execution_count": 69
        }
      ]
    },
    {
      "cell_type": "code",
      "source": [
        "df_coches_json"
      ],
      "metadata": {
        "colab": {
          "base_uri": "https://localhost:8080/",
          "height": 455
        },
        "id": "wanYw_weeuTo",
        "outputId": "a2cd63ea-2511-4d6b-b38f-a49aff850ed9"
      },
      "execution_count": 70,
      "outputs": [
        {
          "output_type": "execute_result",
          "data": {
            "text/plain": [
              "                       color  fueltype      km        make      model   price  \\\n",
              "id                                                                              \n",
              "53966983  COMMON.COLOR_WHITE    Diésel  180000  VOLKSWAGEN       Golf   13990   \n",
              "54582825  COMMON.COLOR_WHITE    Diésel   34000  VOLKSWAGEN   Multivan   68000   \n",
              "54789933    COMMON.COLOR_RED    Diésel   70000  VOLKSWAGEN  Caravelle   36900   \n",
              "54726003   COMMON.COLOR_GRAY    Diésel   66855  VOLKSWAGEN     Tiguan   33500   \n",
              "54133083  COMMON.COLOR_WHITE  Gasolina   89000  VOLKSWAGEN       Polo   16500   \n",
              "...                      ...       ...     ...         ...        ...     ...   \n",
              "54828570  COMMON.COLOR_BLACK  Gasolina   80000     PORSCHE   Panamera   53900   \n",
              "54783072  COMMON.COLOR_WHITE  Gasolina   85000     PORSCHE    Cayenne   69900   \n",
              "54072902  COMMON.COLOR_BLACK  Gasolina   10000     PORSCHE      Macan  119900   \n",
              "54828052  COMMON.COLOR_BLACK  Gasolina  100000     PORSCHE      Macan   59950   \n",
              "54428238   COMMON.COLOR_GRAY  Gasolina  172000     PORSCHE    Cayenne   49900   \n",
              "\n",
              "           province               transmissiontype  year  seller_type  \\\n",
              "id                                                                      \n",
              "53966983  Guipúzcoa  COMMON.TRANSMISSION_AUTOMATIC  2016   particular   \n",
              "54582825   A Coruña     COMMON.TRANSMISSION_MANUAL  2020   particular   \n",
              "54789933   Asturias  COMMON.TRANSMISSION_AUTOMATIC  2021  profesional   \n",
              "54726003     Madrid  COMMON.TRANSMISSION_AUTOMATIC  2019  profesional   \n",
              "54133083  Barcelona     COMMON.TRANSMISSION_MANUAL  2015  profesional   \n",
              "...             ...                            ...   ...          ...   \n",
              "54828570     Madrid  COMMON.TRANSMISSION_AUTOMATIC  2013  profesional   \n",
              "54783072  Barcelona  COMMON.TRANSMISSION_AUTOMATIC  2018  profesional   \n",
              "54072902  Barcelona  COMMON.TRANSMISSION_AUTOMATIC  2022  profesional   \n",
              "54828052  Barcelona  COMMON.TRANSMISSION_AUTOMATIC  2019   particular   \n",
              "54428238     Toledo  COMMON.TRANSMISSION_AUTOMATIC  2016  profesional   \n",
              "\n",
              "                   bodytype cubiccapacity doors     hp  \n",
              "id                                                      \n",
              "53966983    BODY_TYPE_SEDAN        1598.0     5  110.0  \n",
              "54582825  BODY_TYPE_MINIVAN        1968.0     5  150.0  \n",
              "54789933  BODY_TYPE_MINIVAN        1968.0     4  150.0  \n",
              "54726003      BODY_TYPE_4X4        1968.0     5  150.0  \n",
              "54133083    BODY_TYPE_SEDAN        1798.0     3  192.0  \n",
              "...                     ...           ...   ...    ...  \n",
              "54828570    BODY_TYPE_SEDAN        4806.0     5  570.0  \n",
              "54783072      BODY_TYPE_4X4        2995.0     5  340.0  \n",
              "54072902      BODY_TYPE_4X4        2894.0     5  440.0  \n",
              "54828052      BODY_TYPE_4X4        2995.0     5  354.0  \n",
              "54428238      BODY_TYPE_4X4        4806.0     5  520.0  \n",
              "\n",
              "[11223 rows x 14 columns]"
            ],
            "text/html": [
              "\n",
              "  <div id=\"df-f0adbfc6-8512-4a8a-8f88-979de1425465\">\n",
              "    <div class=\"colab-df-container\">\n",
              "      <div>\n",
              "<style scoped>\n",
              "    .dataframe tbody tr th:only-of-type {\n",
              "        vertical-align: middle;\n",
              "    }\n",
              "\n",
              "    .dataframe tbody tr th {\n",
              "        vertical-align: top;\n",
              "    }\n",
              "\n",
              "    .dataframe thead th {\n",
              "        text-align: right;\n",
              "    }\n",
              "</style>\n",
              "<table border=\"1\" class=\"dataframe\">\n",
              "  <thead>\n",
              "    <tr style=\"text-align: right;\">\n",
              "      <th></th>\n",
              "      <th>color</th>\n",
              "      <th>fueltype</th>\n",
              "      <th>km</th>\n",
              "      <th>make</th>\n",
              "      <th>model</th>\n",
              "      <th>price</th>\n",
              "      <th>province</th>\n",
              "      <th>transmissiontype</th>\n",
              "      <th>year</th>\n",
              "      <th>seller_type</th>\n",
              "      <th>bodytype</th>\n",
              "      <th>cubiccapacity</th>\n",
              "      <th>doors</th>\n",
              "      <th>hp</th>\n",
              "    </tr>\n",
              "    <tr>\n",
              "      <th>id</th>\n",
              "      <th></th>\n",
              "      <th></th>\n",
              "      <th></th>\n",
              "      <th></th>\n",
              "      <th></th>\n",
              "      <th></th>\n",
              "      <th></th>\n",
              "      <th></th>\n",
              "      <th></th>\n",
              "      <th></th>\n",
              "      <th></th>\n",
              "      <th></th>\n",
              "      <th></th>\n",
              "      <th></th>\n",
              "    </tr>\n",
              "  </thead>\n",
              "  <tbody>\n",
              "    <tr>\n",
              "      <th>53966983</th>\n",
              "      <td>COMMON.COLOR_WHITE</td>\n",
              "      <td>Diésel</td>\n",
              "      <td>180000</td>\n",
              "      <td>VOLKSWAGEN</td>\n",
              "      <td>Golf</td>\n",
              "      <td>13990</td>\n",
              "      <td>Guipúzcoa</td>\n",
              "      <td>COMMON.TRANSMISSION_AUTOMATIC</td>\n",
              "      <td>2016</td>\n",
              "      <td>particular</td>\n",
              "      <td>BODY_TYPE_SEDAN</td>\n",
              "      <td>1598.0</td>\n",
              "      <td>5</td>\n",
              "      <td>110.0</td>\n",
              "    </tr>\n",
              "    <tr>\n",
              "      <th>54582825</th>\n",
              "      <td>COMMON.COLOR_WHITE</td>\n",
              "      <td>Diésel</td>\n",
              "      <td>34000</td>\n",
              "      <td>VOLKSWAGEN</td>\n",
              "      <td>Multivan</td>\n",
              "      <td>68000</td>\n",
              "      <td>A Coruña</td>\n",
              "      <td>COMMON.TRANSMISSION_MANUAL</td>\n",
              "      <td>2020</td>\n",
              "      <td>particular</td>\n",
              "      <td>BODY_TYPE_MINIVAN</td>\n",
              "      <td>1968.0</td>\n",
              "      <td>5</td>\n",
              "      <td>150.0</td>\n",
              "    </tr>\n",
              "    <tr>\n",
              "      <th>54789933</th>\n",
              "      <td>COMMON.COLOR_RED</td>\n",
              "      <td>Diésel</td>\n",
              "      <td>70000</td>\n",
              "      <td>VOLKSWAGEN</td>\n",
              "      <td>Caravelle</td>\n",
              "      <td>36900</td>\n",
              "      <td>Asturias</td>\n",
              "      <td>COMMON.TRANSMISSION_AUTOMATIC</td>\n",
              "      <td>2021</td>\n",
              "      <td>profesional</td>\n",
              "      <td>BODY_TYPE_MINIVAN</td>\n",
              "      <td>1968.0</td>\n",
              "      <td>4</td>\n",
              "      <td>150.0</td>\n",
              "    </tr>\n",
              "    <tr>\n",
              "      <th>54726003</th>\n",
              "      <td>COMMON.COLOR_GRAY</td>\n",
              "      <td>Diésel</td>\n",
              "      <td>66855</td>\n",
              "      <td>VOLKSWAGEN</td>\n",
              "      <td>Tiguan</td>\n",
              "      <td>33500</td>\n",
              "      <td>Madrid</td>\n",
              "      <td>COMMON.TRANSMISSION_AUTOMATIC</td>\n",
              "      <td>2019</td>\n",
              "      <td>profesional</td>\n",
              "      <td>BODY_TYPE_4X4</td>\n",
              "      <td>1968.0</td>\n",
              "      <td>5</td>\n",
              "      <td>150.0</td>\n",
              "    </tr>\n",
              "    <tr>\n",
              "      <th>54133083</th>\n",
              "      <td>COMMON.COLOR_WHITE</td>\n",
              "      <td>Gasolina</td>\n",
              "      <td>89000</td>\n",
              "      <td>VOLKSWAGEN</td>\n",
              "      <td>Polo</td>\n",
              "      <td>16500</td>\n",
              "      <td>Barcelona</td>\n",
              "      <td>COMMON.TRANSMISSION_MANUAL</td>\n",
              "      <td>2015</td>\n",
              "      <td>profesional</td>\n",
              "      <td>BODY_TYPE_SEDAN</td>\n",
              "      <td>1798.0</td>\n",
              "      <td>3</td>\n",
              "      <td>192.0</td>\n",
              "    </tr>\n",
              "    <tr>\n",
              "      <th>...</th>\n",
              "      <td>...</td>\n",
              "      <td>...</td>\n",
              "      <td>...</td>\n",
              "      <td>...</td>\n",
              "      <td>...</td>\n",
              "      <td>...</td>\n",
              "      <td>...</td>\n",
              "      <td>...</td>\n",
              "      <td>...</td>\n",
              "      <td>...</td>\n",
              "      <td>...</td>\n",
              "      <td>...</td>\n",
              "      <td>...</td>\n",
              "      <td>...</td>\n",
              "    </tr>\n",
              "    <tr>\n",
              "      <th>54828570</th>\n",
              "      <td>COMMON.COLOR_BLACK</td>\n",
              "      <td>Gasolina</td>\n",
              "      <td>80000</td>\n",
              "      <td>PORSCHE</td>\n",
              "      <td>Panamera</td>\n",
              "      <td>53900</td>\n",
              "      <td>Madrid</td>\n",
              "      <td>COMMON.TRANSMISSION_AUTOMATIC</td>\n",
              "      <td>2013</td>\n",
              "      <td>profesional</td>\n",
              "      <td>BODY_TYPE_SEDAN</td>\n",
              "      <td>4806.0</td>\n",
              "      <td>5</td>\n",
              "      <td>570.0</td>\n",
              "    </tr>\n",
              "    <tr>\n",
              "      <th>54783072</th>\n",
              "      <td>COMMON.COLOR_WHITE</td>\n",
              "      <td>Gasolina</td>\n",
              "      <td>85000</td>\n",
              "      <td>PORSCHE</td>\n",
              "      <td>Cayenne</td>\n",
              "      <td>69900</td>\n",
              "      <td>Barcelona</td>\n",
              "      <td>COMMON.TRANSMISSION_AUTOMATIC</td>\n",
              "      <td>2018</td>\n",
              "      <td>profesional</td>\n",
              "      <td>BODY_TYPE_4X4</td>\n",
              "      <td>2995.0</td>\n",
              "      <td>5</td>\n",
              "      <td>340.0</td>\n",
              "    </tr>\n",
              "    <tr>\n",
              "      <th>54072902</th>\n",
              "      <td>COMMON.COLOR_BLACK</td>\n",
              "      <td>Gasolina</td>\n",
              "      <td>10000</td>\n",
              "      <td>PORSCHE</td>\n",
              "      <td>Macan</td>\n",
              "      <td>119900</td>\n",
              "      <td>Barcelona</td>\n",
              "      <td>COMMON.TRANSMISSION_AUTOMATIC</td>\n",
              "      <td>2022</td>\n",
              "      <td>profesional</td>\n",
              "      <td>BODY_TYPE_4X4</td>\n",
              "      <td>2894.0</td>\n",
              "      <td>5</td>\n",
              "      <td>440.0</td>\n",
              "    </tr>\n",
              "    <tr>\n",
              "      <th>54828052</th>\n",
              "      <td>COMMON.COLOR_BLACK</td>\n",
              "      <td>Gasolina</td>\n",
              "      <td>100000</td>\n",
              "      <td>PORSCHE</td>\n",
              "      <td>Macan</td>\n",
              "      <td>59950</td>\n",
              "      <td>Barcelona</td>\n",
              "      <td>COMMON.TRANSMISSION_AUTOMATIC</td>\n",
              "      <td>2019</td>\n",
              "      <td>particular</td>\n",
              "      <td>BODY_TYPE_4X4</td>\n",
              "      <td>2995.0</td>\n",
              "      <td>5</td>\n",
              "      <td>354.0</td>\n",
              "    </tr>\n",
              "    <tr>\n",
              "      <th>54428238</th>\n",
              "      <td>COMMON.COLOR_GRAY</td>\n",
              "      <td>Gasolina</td>\n",
              "      <td>172000</td>\n",
              "      <td>PORSCHE</td>\n",
              "      <td>Cayenne</td>\n",
              "      <td>49900</td>\n",
              "      <td>Toledo</td>\n",
              "      <td>COMMON.TRANSMISSION_AUTOMATIC</td>\n",
              "      <td>2016</td>\n",
              "      <td>profesional</td>\n",
              "      <td>BODY_TYPE_4X4</td>\n",
              "      <td>4806.0</td>\n",
              "      <td>5</td>\n",
              "      <td>520.0</td>\n",
              "    </tr>\n",
              "  </tbody>\n",
              "</table>\n",
              "<p>11223 rows × 14 columns</p>\n",
              "</div>\n",
              "      <button class=\"colab-df-convert\" onclick=\"convertToInteractive('df-f0adbfc6-8512-4a8a-8f88-979de1425465')\"\n",
              "              title=\"Convert this dataframe to an interactive table.\"\n",
              "              style=\"display:none;\">\n",
              "        \n",
              "  <svg xmlns=\"http://www.w3.org/2000/svg\" height=\"24px\"viewBox=\"0 0 24 24\"\n",
              "       width=\"24px\">\n",
              "    <path d=\"M0 0h24v24H0V0z\" fill=\"none\"/>\n",
              "    <path d=\"M18.56 5.44l.94 2.06.94-2.06 2.06-.94-2.06-.94-.94-2.06-.94 2.06-2.06.94zm-11 1L8.5 8.5l.94-2.06 2.06-.94-2.06-.94L8.5 2.5l-.94 2.06-2.06.94zm10 10l.94 2.06.94-2.06 2.06-.94-2.06-.94-.94-2.06-.94 2.06-2.06.94z\"/><path d=\"M17.41 7.96l-1.37-1.37c-.4-.4-.92-.59-1.43-.59-.52 0-1.04.2-1.43.59L10.3 9.45l-7.72 7.72c-.78.78-.78 2.05 0 2.83L4 21.41c.39.39.9.59 1.41.59.51 0 1.02-.2 1.41-.59l7.78-7.78 2.81-2.81c.8-.78.8-2.07 0-2.86zM5.41 20L4 18.59l7.72-7.72 1.47 1.35L5.41 20z\"/>\n",
              "  </svg>\n",
              "      </button>\n",
              "      \n",
              "  <style>\n",
              "    .colab-df-container {\n",
              "      display:flex;\n",
              "      flex-wrap:wrap;\n",
              "      gap: 12px;\n",
              "    }\n",
              "\n",
              "    .colab-df-convert {\n",
              "      background-color: #E8F0FE;\n",
              "      border: none;\n",
              "      border-radius: 50%;\n",
              "      cursor: pointer;\n",
              "      display: none;\n",
              "      fill: #1967D2;\n",
              "      height: 32px;\n",
              "      padding: 0 0 0 0;\n",
              "      width: 32px;\n",
              "    }\n",
              "\n",
              "    .colab-df-convert:hover {\n",
              "      background-color: #E2EBFA;\n",
              "      box-shadow: 0px 1px 2px rgba(60, 64, 67, 0.3), 0px 1px 3px 1px rgba(60, 64, 67, 0.15);\n",
              "      fill: #174EA6;\n",
              "    }\n",
              "\n",
              "    [theme=dark] .colab-df-convert {\n",
              "      background-color: #3B4455;\n",
              "      fill: #D2E3FC;\n",
              "    }\n",
              "\n",
              "    [theme=dark] .colab-df-convert:hover {\n",
              "      background-color: #434B5C;\n",
              "      box-shadow: 0px 1px 3px 1px rgba(0, 0, 0, 0.15);\n",
              "      filter: drop-shadow(0px 1px 2px rgba(0, 0, 0, 0.3));\n",
              "      fill: #FFFFFF;\n",
              "    }\n",
              "  </style>\n",
              "\n",
              "      <script>\n",
              "        const buttonEl =\n",
              "          document.querySelector('#df-f0adbfc6-8512-4a8a-8f88-979de1425465 button.colab-df-convert');\n",
              "        buttonEl.style.display =\n",
              "          google.colab.kernel.accessAllowed ? 'block' : 'none';\n",
              "\n",
              "        async function convertToInteractive(key) {\n",
              "          const element = document.querySelector('#df-f0adbfc6-8512-4a8a-8f88-979de1425465');\n",
              "          const dataTable =\n",
              "            await google.colab.kernel.invokeFunction('convertToInteractive',\n",
              "                                                     [key], {});\n",
              "          if (!dataTable) return;\n",
              "\n",
              "          const docLinkHtml = 'Like what you see? Visit the ' +\n",
              "            '<a target=\"_blank\" href=https://colab.research.google.com/notebooks/data_table.ipynb>data table notebook</a>'\n",
              "            + ' to learn more about interactive tables.';\n",
              "          element.innerHTML = '';\n",
              "          dataTable['output_type'] = 'display_data';\n",
              "          await google.colab.output.renderOutput(dataTable, element);\n",
              "          const docLink = document.createElement('div');\n",
              "          docLink.innerHTML = docLinkHtml;\n",
              "          element.appendChild(docLink);\n",
              "        }\n",
              "      </script>\n",
              "    </div>\n",
              "  </div>\n",
              "  "
            ]
          },
          "metadata": {},
          "execution_count": 70
        }
      ]
    },
    {
      "cell_type": "markdown",
      "source": [
        "# **Preprocesamiento de los datos**\n",
        "\n",
        "---\n",
        "\n"
      ],
      "metadata": {
        "id": "bb3dLeHomf1o"
      }
    },
    {
      "cell_type": "code",
      "source": [
        "df = pd.concat([df_coches_csv, df_coches_json])"
      ],
      "metadata": {
        "id": "_PNXMMmij4WB"
      },
      "execution_count": 71,
      "outputs": []
    },
    {
      "cell_type": "code",
      "source": [
        "df.drop_duplicates(inplace=True)"
      ],
      "metadata": {
        "id": "gpMQIyZvr-Gx"
      },
      "execution_count": 72,
      "outputs": []
    },
    {
      "cell_type": "code",
      "source": [
        "df.count()"
      ],
      "metadata": {
        "colab": {
          "base_uri": "https://localhost:8080/"
        },
        "id": "jpj_uxpujg7l",
        "outputId": "e4ffc792-21a4-49f1-cefc-ae2537f76d03"
      },
      "execution_count": 73,
      "outputs": [
        {
          "output_type": "execute_result",
          "data": {
            "text/plain": [
              "color               12855\n",
              "fueltype            12857\n",
              "km                  12857\n",
              "make                12857\n",
              "model               12857\n",
              "price               12857\n",
              "province            12857\n",
              "transmissiontype    12854\n",
              "year                12857\n",
              "seller_type         12857\n",
              "bodytype            10724\n",
              "cubiccapacity       12421\n",
              "doors               12847\n",
              "hp                  12628\n",
              "dtype: int64"
            ]
          },
          "metadata": {},
          "execution_count": 73
        }
      ]
    },
    {
      "cell_type": "code",
      "source": [
        "df.dtypes"
      ],
      "metadata": {
        "colab": {
          "base_uri": "https://localhost:8080/"
        },
        "id": "QaufLqhuSLIc",
        "outputId": "d0a1b0dd-7a31-49de-9c5a-b6a0d61aabc1"
      },
      "execution_count": 74,
      "outputs": [
        {
          "output_type": "execute_result",
          "data": {
            "text/plain": [
              "color               object\n",
              "fueltype            object\n",
              "km                  object\n",
              "make                object\n",
              "model               object\n",
              "price               object\n",
              "province            object\n",
              "transmissiontype    object\n",
              "year                object\n",
              "seller_type         object\n",
              "bodytype            object\n",
              "cubiccapacity       object\n",
              "doors               object\n",
              "hp                  object\n",
              "dtype: object"
            ]
          },
          "metadata": {},
          "execution_count": 74
        }
      ]
    },
    {
      "cell_type": "code",
      "source": [
        "df.isnull().sum()"
      ],
      "metadata": {
        "colab": {
          "base_uri": "https://localhost:8080/"
        },
        "id": "LBJdDm51Syvk",
        "outputId": "0d77cea5-03bb-4538-ce15-b9e5ccf3123a"
      },
      "execution_count": 75,
      "outputs": [
        {
          "output_type": "execute_result",
          "data": {
            "text/plain": [
              "color                  3\n",
              "fueltype               1\n",
              "km                     1\n",
              "make                   1\n",
              "model                  1\n",
              "price                  1\n",
              "province               1\n",
              "transmissiontype       4\n",
              "year                   1\n",
              "seller_type            1\n",
              "bodytype            2134\n",
              "cubiccapacity        437\n",
              "doors                 11\n",
              "hp                   230\n",
              "dtype: int64"
            ]
          },
          "metadata": {},
          "execution_count": 75
        }
      ]
    },
    {
      "cell_type": "markdown",
      "source": [
        "Hay columnas que tienen un minimo de valores nulos que si eliminamos no puede afectar a nuestro estudio, por ejemplo: color,fueltype,km...Pero campos como bodytype,cubiccapacity,hp ya contiene un gran contenido de valores nulos que debemos apreciar si eliminarlos sería buena idea o reemplazarlos por la media,moda..."
      ],
      "metadata": {
        "id": "qkLXVpnglM1L"
      }
    },
    {
      "cell_type": "code",
      "source": [
        "df.dropna(subset=['color'], inplace=True)"
      ],
      "metadata": {
        "id": "O80Hr2ElXPBa"
      },
      "execution_count": 42,
      "outputs": []
    },
    {
      "cell_type": "code",
      "source": [
        "df.dropna(subset=['fueltype'], inplace=True)"
      ],
      "metadata": {
        "id": "9cjYFWWQkiq6"
      },
      "execution_count": 43,
      "outputs": []
    },
    {
      "cell_type": "code",
      "source": [
        "df.dropna(subset=['km'], inplace=True)"
      ],
      "metadata": {
        "id": "fHg7cQToknNK"
      },
      "execution_count": 45,
      "outputs": []
    },
    {
      "cell_type": "code",
      "source": [
        "df.dropna(subset=['make'], inplace=True)"
      ],
      "metadata": {
        "id": "7BvYoFEZktvj"
      },
      "execution_count": 46,
      "outputs": []
    },
    {
      "cell_type": "code",
      "source": [
        "df.dropna(subset=['model'], inplace=True)"
      ],
      "metadata": {
        "id": "dP92toE-d2Ng"
      },
      "execution_count": 47,
      "outputs": []
    },
    {
      "cell_type": "code",
      "source": [
        "df.dropna(subset=['price'], inplace=True)"
      ],
      "metadata": {
        "id": "t3arxvr9kwOd"
      },
      "execution_count": 48,
      "outputs": []
    },
    {
      "cell_type": "code",
      "source": [
        "df.dropna(subset=['province'], inplace=True)"
      ],
      "metadata": {
        "id": "8v2c05jOkxxR"
      },
      "execution_count": 49,
      "outputs": []
    },
    {
      "cell_type": "code",
      "source": [
        "df.dropna(subset=['transmissiontype'], inplace=True)"
      ],
      "metadata": {
        "id": "gXv11KeNkzm9"
      },
      "execution_count": 50,
      "outputs": []
    },
    {
      "cell_type": "code",
      "source": [
        "df.dropna(subset=['year'], inplace=True)"
      ],
      "metadata": {
        "id": "FjF-gxKOk3RS"
      },
      "execution_count": 51,
      "outputs": []
    },
    {
      "cell_type": "code",
      "source": [
        "df.dropna(subset=['seller_type'], inplace=True)"
      ],
      "metadata": {
        "id": "vzN5CbUIk6dS"
      },
      "execution_count": 52,
      "outputs": []
    },
    {
      "cell_type": "code",
      "source": [
        "df.dropna(subset=['doors'], inplace=True)"
      ],
      "metadata": {
        "id": "OdCAbqGsdyS6"
      },
      "execution_count": 53,
      "outputs": []
    },
    {
      "cell_type": "code",
      "source": [
        "df.fillna(df.mode().iloc[0], inplace=True)"
      ],
      "metadata": {
        "id": "n9uy8-E6l4zD"
      },
      "execution_count": 76,
      "outputs": []
    },
    {
      "cell_type": "code",
      "source": [
        "df.isnull().sum()"
      ],
      "metadata": {
        "colab": {
          "base_uri": "https://localhost:8080/"
        },
        "id": "NLB83peHmTa7",
        "outputId": "a6395ab3-5cca-4996-bcd0-ca6c1707b284"
      },
      "execution_count": 77,
      "outputs": [
        {
          "output_type": "execute_result",
          "data": {
            "text/plain": [
              "color               0\n",
              "fueltype            0\n",
              "km                  0\n",
              "make                0\n",
              "model               0\n",
              "price               0\n",
              "province            0\n",
              "transmissiontype    0\n",
              "year                0\n",
              "seller_type         0\n",
              "bodytype            0\n",
              "cubiccapacity       0\n",
              "doors               0\n",
              "hp                  0\n",
              "dtype: int64"
            ]
          },
          "metadata": {},
          "execution_count": 77
        }
      ]
    },
    {
      "cell_type": "code",
      "source": [
        "for col in df.columns:\n",
        "    if isinstance(df[col][0], (int, float)):\n",
        "        df[col] = df[col].astype(float)"
      ],
      "metadata": {
        "id": "Yh91RUfWmdmf"
      },
      "execution_count": 78,
      "outputs": []
    },
    {
      "cell_type": "code",
      "source": [
        "df.dtypes"
      ],
      "metadata": {
        "colab": {
          "base_uri": "https://localhost:8080/"
        },
        "id": "ggvMlYdxn6op",
        "outputId": "facef0af-edec-49c8-b3c4-0ac865128c32"
      },
      "execution_count": 79,
      "outputs": [
        {
          "output_type": "execute_result",
          "data": {
            "text/plain": [
              "color                object\n",
              "fueltype             object\n",
              "km                  float64\n",
              "make                 object\n",
              "model                object\n",
              "price               float64\n",
              "province             object\n",
              "transmissiontype     object\n",
              "year                float64\n",
              "seller_type          object\n",
              "bodytype             object\n",
              "cubiccapacity       float64\n",
              "doors               float64\n",
              "hp                  float64\n",
              "dtype: object"
            ]
          },
          "metadata": {},
          "execution_count": 79
        }
      ]
    },
    {
      "cell_type": "code",
      "source": [
        "col_numericos = []\n",
        "\n",
        "col_categoricos = []\n",
        "for columna in df.columns:\n",
        "    if df[columna].dtype == 'int64' or df[columna].dtype == 'float64':\n",
        "        col_numericos.append(columna)\n",
        "    else:\n",
        "        col_categoricos.append(columna)\n",
        "print('col_numericos',col_numericos)\n",
        "col_numericos.remove('price')\n",
        "all_feature_names = col_numericos + col_categoricos\n",
        "\n",
        "TG = 'price'\n",
        "all_feature_names"
      ],
      "metadata": {
        "colab": {
          "base_uri": "https://localhost:8080/"
        },
        "id": "oHxSb3JCnFPN",
        "outputId": "7a169d90-cff0-46bd-db58-c96b0657a71d"
      },
      "execution_count": 80,
      "outputs": [
        {
          "output_type": "stream",
          "name": "stdout",
          "text": [
            "col_numericos ['km', 'price', 'year', 'cubiccapacity', 'doors', 'hp']\n"
          ]
        },
        {
          "output_type": "execute_result",
          "data": {
            "text/plain": [
              "['km',\n",
              " 'year',\n",
              " 'cubiccapacity',\n",
              " 'doors',\n",
              " 'hp',\n",
              " 'color',\n",
              " 'fueltype',\n",
              " 'make',\n",
              " 'model',\n",
              " 'province',\n",
              " 'transmissiontype',\n",
              " 'seller_type',\n",
              " 'bodytype']"
            ]
          },
          "metadata": {},
          "execution_count": 80
        }
      ]
    },
    {
      "cell_type": "code",
      "source": [
        "import matplotlib.pyplot as plt\n",
        "df[col_numericos].hist(ax=plt.figure(figsize=(15,15)).gca())"
      ],
      "metadata": {
        "colab": {
          "base_uri": "https://localhost:8080/",
          "height": 1000
        },
        "id": "kIDX7JXEoER1",
        "outputId": "20c6f662-7b2a-4fe4-bd81-52ca2bef1843"
      },
      "execution_count": 81,
      "outputs": [
        {
          "output_type": "stream",
          "name": "stderr",
          "text": [
            "<ipython-input-81-f27cba2ab741>:2: UserWarning: To output multiple subplots, the figure containing the passed axes is being cleared.\n",
            "  df[col_numericos].hist(ax=plt.figure(figsize=(15,15)).gca())\n"
          ]
        },
        {
          "output_type": "execute_result",
          "data": {
            "text/plain": [
              "array([[<Axes: title={'center': 'km'}>, <Axes: title={'center': 'year'}>],\n",
              "       [<Axes: title={'center': 'cubiccapacity'}>,\n",
              "        <Axes: title={'center': 'doors'}>],\n",
              "       [<Axes: title={'center': 'hp'}>, <Axes: >]], dtype=object)"
            ]
          },
          "metadata": {},
          "execution_count": 81
        },
        {
          "output_type": "display_data",
          "data": {
            "text/plain": [
              "<Figure size 1500x1500 with 6 Axes>"
            ],
            "image/png": "[encoded data removed]"
          },
          "metadata": {}
        }
      ]
    },
    {
      "cell_type": "code",
      "source": [
        "import seaborn as sns\n",
        "\n",
        "# mediante esta función de pueden visualizar los 'outliers'\n",
        "def draw_hist_boxplot(df, feature_name):\n",
        "  # se dibuja el diagrama de cajas\n",
        "  sns.boxplot(x = feature_name, data = df)\n",
        "  # se dibujan sobre el diagrama todos los puntos de datos que tiene la propiedad\n",
        "  sns.stripplot(x = feature_name, data = df, color = \"#474646\")\n",
        "\n",
        "# mediante esta función se reemplazan todos los outliers\n",
        "# cualquier valor por encima o por debajo de los\n",
        "# límites superior o inferior es sustituido por la mediana\n",
        "def replace_outliers_with_median(df, feature_name):\n",
        "  Q1 = df[feature_name].quantile(0.25)\n",
        "  median = df[feature_name].quantile(0.5)\n",
        "  Q3 = df[feature_name].quantile(0.75)\n",
        "  IQR = Q3 - Q1\n",
        "  lower_whisker = Q1 - 1.5 * IQR\n",
        "  upper_whisker = Q3 + 1.5 * IQR\n",
        "  df[feature_name] = np.where((df[feature_name] < lower_whisker) | \n",
        "                              (df[feature_name] > upper_whisker), \n",
        "                                median, \n",
        "                                df[feature_name])"
      ],
      "metadata": {
        "id": "7tTjDzFgtE3C"
      },
      "execution_count": 83,
      "outputs": []
    },
    {
      "cell_type": "code",
      "source": [
        "draw_hist_boxplot(df, 'hp')"
      ],
      "metadata": {
        "colab": {
          "base_uri": "https://localhost:8080/",
          "height": 449
        },
        "id": "LBEF4BONshDy",
        "outputId": "817f107d-ebf7-4c6e-b521-a749d8a2672c"
      },
      "execution_count": 84,
      "outputs": [
        {
          "output_type": "display_data",
          "data": {
            "text/plain": [
              "<Figure size 640x480 with 1 Axes>"
            ],
            "image/png": "[encoded data removed]"
          },
          "metadata": {}
        }
      ]
    },
    {
      "cell_type": "code",
      "source": [
        "# se reemplazan los outliers y se vuelve a dibujar\n",
        "replace_outliers_with_median(df, 'hp')\n",
        "draw_hist_boxplot(df, 'hp')"
      ],
      "metadata": {
        "colab": {
          "base_uri": "https://localhost:8080/",
          "height": 449
        },
        "id": "XO1U02DutOFK",
        "outputId": "115a3b9e-b76b-40f8-94d0-ef0df622f39e"
      },
      "execution_count": 85,
      "outputs": [
        {
          "output_type": "display_data",
          "data": {
            "text/plain": [
              "<Figure size 640x480 with 1 Axes>"
            ],
            "image/png": "[encoded data removed]"
          },
          "metadata": {}
        }
      ]
    },
    {
      "cell_type": "code",
      "source": [
        "draw_hist_boxplot(df, 'cubiccapacity')"
      ],
      "metadata": {
        "colab": {
          "base_uri": "https://localhost:8080/",
          "height": 449
        },
        "id": "S8OHuCjltYMM",
        "outputId": "053fb5a7-2ffc-41b1-a239-93f91cbf8819"
      },
      "execution_count": 86,
      "outputs": [
        {
          "output_type": "display_data",
          "data": {
            "text/plain": [
              "<Figure size 640x480 with 1 Axes>"
            ],
            "image/png": "[encoded data removed]"
          },
          "metadata": {}
        }
      ]
    },
    {
      "cell_type": "code",
      "source": [
        "# se reemplazan los outliers y se vuelve a dibujar\n",
        "replace_outliers_with_median(df, 'cubiccapacity')\n",
        "draw_hist_boxplot(df, 'cubiccapacity')"
      ],
      "metadata": {
        "colab": {
          "base_uri": "https://localhost:8080/",
          "height": 449
        },
        "id": "saDEmOXttbyH",
        "outputId": "51a80c04-5318-4707-f70c-d8bc05f259e6"
      },
      "execution_count": 87,
      "outputs": [
        {
          "output_type": "display_data",
          "data": {
            "text/plain": [
              "<Figure size 640x480 with 1 Axes>"
            ],
            "image/png": "[encoded data removed]"
          },
          "metadata": {}
        }
      ]
    },
    {
      "cell_type": "markdown",
      "source": [
        "calculamos la desviación de la distribución"
      ],
      "metadata": {
        "id": "Ht7gvfmstmpy"
      }
    },
    {
      "cell_type": "code",
      "source": [
        "print(df['km'].skew())"
      ],
      "metadata": {
        "colab": {
          "base_uri": "https://localhost:8080/"
        },
        "id": "GK9FXOFxthyR",
        "outputId": "a412c8c9-f436-4275-a51e-eb6339ec7fd0"
      },
      "execution_count": 88,
      "outputs": [
        {
          "output_type": "stream",
          "name": "stdout",
          "text": [
            "0.5130370648175218\n"
          ]
        }
      ]
    },
    {
      "cell_type": "markdown",
      "source": [
        "Una vez limpiado los outliers hacemos un escalado de los datos"
      ],
      "metadata": {
        "id": "tCQ2KPlKt0uF"
      }
    },
    {
      "cell_type": "code",
      "source": [
        "from sklearn.preprocessing import StandardScaler\n",
        "\n",
        "scaler = StandardScaler()\n",
        "df[col_numericos] = scaler.fit_transform(df[col_numericos])"
      ],
      "metadata": {
        "id": "SVgRVbvxt0bV"
      },
      "execution_count": 89,
      "outputs": []
    },
    {
      "cell_type": "code",
      "source": [
        "df[col_numericos].hist(ax=plt.figure(figsize=(10,10)).gca())"
      ],
      "metadata": {
        "colab": {
          "base_uri": "https://localhost:8080/",
          "height": 957
        },
        "id": "ZWuZLJURuevk",
        "outputId": "75d9c0a6-700a-4703-9cb8-dcc666afac4c"
      },
      "execution_count": 91,
      "outputs": [
        {
          "output_type": "stream",
          "name": "stderr",
          "text": [
            "<ipython-input-91-f24fbff0441b>:1: UserWarning: To output multiple subplots, the figure containing the passed axes is being cleared.\n",
            "  df[col_numericos].hist(ax=plt.figure(figsize=(10,10)).gca())\n"
          ]
        },
        {
          "output_type": "execute_result",
          "data": {
            "text/plain": [
              "array([[<Axes: title={'center': 'km'}>, <Axes: title={'center': 'year'}>],\n",
              "       [<Axes: title={'center': 'cubiccapacity'}>,\n",
              "        <Axes: title={'center': 'doors'}>],\n",
              "       [<Axes: title={'center': 'hp'}>, <Axes: >]], dtype=object)"
            ]
          },
          "metadata": {},
          "execution_count": 91
        },
        {
          "output_type": "display_data",
          "data": {
            "text/plain": [
              "<Figure size 1000x1000 with 6 Axes>"
            ],
            "image/png": "[encoded data removed]"
          },
          "metadata": {}
        }
      ]
    },
    {
      "cell_type": "markdown",
      "source": [
        "# **Datos de Entrenamiento/Test**"
      ],
      "metadata": {
        "id": "y3E6n66z0LsU"
      }
    },
    {
      "cell_type": "markdown",
      "source": [
        "\n",
        "\n",
        "---\n",
        "\n"
      ],
      "metadata": {
        "id": "g8UaMIF-lL_K"
      }
    },
    {
      "cell_type": "code",
      "source": [
        "import seaborn as sns\n",
        "\n",
        "plt.figure(figsize=(10, 10))\n",
        "sns.heatmap(df.corr(), cmap='coolwarm', center=0, annot=True)"
      ],
      "metadata": {
        "colab": {
          "base_uri": "https://localhost:8080/",
          "height": 908
        },
        "id": "KZ2ziEudu2p5",
        "outputId": "232e6fbc-b469-4a89-d521-7dcc409a12a4"
      },
      "execution_count": 95,
      "outputs": [
        {
          "output_type": "stream",
          "name": "stderr",
          "text": [
            "<ipython-input-95-2bbd277cb826>:4: FutureWarning: The default value of numeric_only in DataFrame.corr is deprecated. In a future version, it will default to False. Select only valid columns or specify the value of numeric_only to silence this warning.\n",
            "  sns.heatmap(df.corr(), cmap='coolwarm', center=0, annot=True)\n"
          ]
        },
        {
          "output_type": "execute_result",
          "data": {
            "text/plain": [
              "<Axes: >"
            ]
          },
          "metadata": {},
          "execution_count": 95
        },
        {
          "output_type": "display_data",
          "data": {
            "text/plain": [
              "<Figure size 1000x1000 with 2 Axes>"
            ],
            "image/png": "[encoded data removed]"
          },
          "metadata": {}
        }
      ]
    },
    {
      "cell_type": "code",
      "source": [
        "cars_features = all_feature_names + [TG]"
      ],
      "metadata": {
        "id": "eMO6JTEzvxbd"
      },
      "execution_count": 96,
      "outputs": []
    },
    {
      "cell_type": "code",
      "source": [
        "df_TG = df['price']\n",
        "df = df.drop('price', axis=1)"
      ],
      "metadata": {
        "id": "f85zclgHwMxv"
      },
      "execution_count": 98,
      "outputs": []
    },
    {
      "cell_type": "code",
      "source": [
        "df[9:10].to_dict(orient='records')"
      ],
      "metadata": {
        "colab": {
          "base_uri": "https://localhost:8080/"
        },
        "id": "neehtW-9xm0G",
        "outputId": "de7071d4-ed42-4034-e725-d4db717350d8"
      },
      "execution_count": 99,
      "outputs": [
        {
          "output_type": "execute_result",
          "data": {
            "text/plain": [
              "[{'color': 'GRAY',\n",
              "  'fueltype': 'Diésel',\n",
              "  'km': -0.23345577925062735,\n",
              "  'make': 'AUDI',\n",
              "  'model': 'Q3',\n",
              "  'province': 'Barcelona',\n",
              "  'transmissiontype': 'AUTOMATIC',\n",
              "  'year': 0.3518986830302952,\n",
              "  'seller_type': 'particular',\n",
              "  'bodytype': '4x4 SUV',\n",
              "  'cubiccapacity': 0.9991277301485647,\n",
              "  'doors': 0.3561954893951225,\n",
              "  'hp': 0.5838766158488538}]"
            ]
          },
          "metadata": {},
          "execution_count": 99
        }
      ]
    },
    {
      "cell_type": "code",
      "source": [
        "# Iterar a través de cada columna\n",
        "colms_categoricas = []\n",
        "for column in df.columns:\n",
        "    if df[column].dtype in ['object', 'category', 'bool']:\n",
        "        print(f'Únicos de la columna \"{column}\":')\n",
        "        print(df[column].unique())\n",
        "        colms_categoricas.append(column)"
      ],
      "metadata": {
        "colab": {
          "base_uri": "https://localhost:8080/"
        },
        "id": "9s5CzgagxrPD",
        "outputId": "3c9327ae-70be-48b8-ef7f-4d65616f777b"
      },
      "execution_count": 101,
      "outputs": [
        {
          "output_type": "stream",
          "name": "stdout",
          "text": [
            "Únicos de la columna \"color\":\n",
            "['BLUE' 'RED' 'GRAY' 'WHITE' 'BLACK' 'YELLOW' 'ORANGE' 'BROWN' 'GREEN'\n",
            " 'GARNET' 'COMMON.COLOR_BLACK' 'COMMON.COLOR_WHITE' 'COMMON.COLOR_BLUE'\n",
            " 'COMMON.COLOR_GRAY' 'COMMON.COLOR_BEIGE' 'COMMON.COLOR_ORANGE'\n",
            " 'COMMON.COLOR_BROWN' 'COMMON.COLOR_RED' 'COMMON.COLOR_YELLOW'\n",
            " 'COMMON.COLOR_GREEN' 'COMMON.COLOR_GARNET' 'COMMON.COLOR_PURPLE'\n",
            " 'COMMON.COLOR_PINK']\n",
            "Únicos de la columna \"fueltype\":\n",
            "['Diésel' 'Gasolina' 'Híbrido' 'Híbrido enchufable' 'Gas natural (CNG)'\n",
            " 'Eléctrico' 'Di\\\\u00E9sel' 'Gas licuado (GLP)' 'El\\\\u00E9ctrico'\n",
            " 'H\\\\u00EDbrido' 'H\\\\u00EDbrido enchufable']\n",
            "Únicos de la columna \"make\":\n",
            "['AUDI' 'BMW' 'MERCEDES-BENZ' 'MAZDA' 'VOLKSWAGEN' 'PEUGEOT' 'SSANGYONG'\n",
            " 'OPEL' 'RENAULT' 'HONDA' 'HYUNDAI' 'JAGUAR' 'JEEP' 'KIA' 'SMART' 'TOYOTA'\n",
            " 'LAND-ROVER' 'LEXUS' 'TESLA' 'SUZUKI' 'SEAT' 'SKODA' 'VOLVO' 'FORD'\n",
            " 'FIAT' 'DS' 'FERRARI' 'SUBARU' 'ABARTH' 'ALFA ROMEO' 'CHEVROLET'\n",
            " 'CITROEN' 'CUPRA' 'DACIA' 'MINI' 'MITSUBISHI' 'NISSAN' 'PORSCHE']\n",
            "Únicos de la columna \"model\":\n",
            "['A3' 'A1' 'Q2' 'A4' 'Q3' 'A5' 'Q7' 'Q5' 'A4 Allroad Quattro'\n",
            " 'Q3 Sportback' 'Q8' 'A6' 'A8' 'SQ7' 'Q5 SPORTBACK' 'A7' 'RS6' 'S1' 'R8'\n",
            " 'A6 allroad quattro' 'TT' 'SQ5' 'S5' 'RS7' 'RS4' 'X3' 'Serie 5' 'X5'\n",
            " 'Serie 1' 'Serie 2 Gran Tourer' 'X4' 'Serie 4' 'X1' 'Serie 3' 'Serie 7'\n",
            " 'X2' 'i3' 'Serie 6' 'i8' 'Serie 2' 'Serie 2 Active Tourer' 'Serie 8' 'X6'\n",
            " 'i4' 'CX5' 'iX3' 'X7' 'Z4' 'M6 COMPETITION' 'iX'\n",
            " 'M4 COMPETITION CABRIO 450CV' 'MX5' 'CX-5' 'Mazda3' 'CX30' 'Mazda6' 'CX3'\n",
            " 'Mazda2' 'CX7' 'Mazda5' 'MX30' 'CX-3' 'CX-30' 'MX-5' 'CX9' 'Golf'\n",
            " 'Multivan' 'Caravelle' 'Tiguan' 'Polo' 'Passat' 'Touran' 'Arteon' 'TRoc'\n",
            " 'TCross' 'Touareg' 'Sharan' 'up' 'Golf Sportsvan' 'Scirocco' 'eup'\n",
            " 'Tiguan Allspace' 'ID4' 'Beetle' 'CC' 'California' 'ID3' 'Passat CC'\n",
            " 'Jetta' 'Taigo' 'Caddy' 'Transporter' 'ID.3' 'Golf Plus' '308' '208'\n",
            " '5008' '3008' '2008' '508' '3008 Hybrid' 'Rifter' '807' '207' 'e2008'\n",
            " 'Partner' '108' 'Traveller' 'e208' 'RCZ' '508 Hybrid' 'Rodius' 'Rexton'\n",
            " 'Korando' 'Tivoli' 'XLV' 'Corsa' 'Grandland X' 'Combo Life' 'Crossland'\n",
            " 'Astra' 'Cabrio' 'Mokka X' 'Antara' 'Insignia' 'GTC' 'Mokka' 'Zafira'\n",
            " 'Grandland' 'Vivaro' 'Crossland X' 'Grandland PHEV' 'Zafira Tourer'\n",
            " 'Corsae' 'Meriva' 'Mokkae' 'Combo' 'Adam' 'Zafira Life'\n",
            " 'Grandland X PHEV' 'Kangoo Combi' 'Captur' 'Mégane' 'Scenic' 'Clio'\n",
            " 'Trafic' 'Kadjar' 'Megane' 'Grand Scenic' 'Twingo' 'Talisman' 'Espace'\n",
            " 'Zoe' 'Koleos' 'Arkana' 'Megane ETech' 'Kangoo' 'Grand Espace' 'Austral'\n",
            " 'Civic' 'CRV' 'Jazz' 'HRV' 'CR-V' 'i40' 'Kona' 'ix20' 'TUCSON' 'ix35'\n",
            " 'IONIQ' 'i30' 'Grand Santa Fe' 'Santa Fe' 'i20' 'i10' 'Elantra' 'Bayon'\n",
            " 'i20 Active' 'H1 Travel' 'F-Pace' 'EPace' 'XF' 'XE' 'Fpace' 'FType'\n",
            " 'iPace' 'Renegade' 'Grand Cherokee' 'Compass' 'Wrangler Unlimited'\n",
            " 'Wrangler' 'Cherokee' 'Gladiator' 'Sportage' 'Optima' 'Ceed Tourer'\n",
            " 'Pro Ceed' 'Rio' 'Carens' 'Niro' 'ceed' 'eSoul' 'Picanto' 'eNiro'\n",
            " 'Stonic' 'Venga' 'Sorento' 'ProCeed' 'XCeed' 'ceed Sportswagon' 'EV6'\n",
            " 'Soul' 'Soul EV' \"cee'd\" 'fortwo' 'forfour' 'CHR' 'Aygo' 'Corolla' 'Rav4'\n",
            " 'Auris' 'Prius' 'Yaris Cross' 'Yaris' 'Priusplus' 'Verso' 'Proace City'\n",
            " 'Avensis' 'Hilux' 'Land Cruiser' 'Proace Verso' 'Corolla Sedan'\n",
            " 'Highlander' 'Range Rover Sport' 'Range Rover Evoque' 'Defender'\n",
            " 'Discovery Sport' 'Range Rover Velar' 'Discovery 4' 'Range Rover'\n",
            " 'Discovery' 'Freelander' 'UX' 'NX' 'IS' 'CT' 'RX' 'RC' 'ES' 'GS'\n",
            " 'Clase A' 'Clase GLA' 'Clase E' 'Clase C' 'Clase B' 'Clase GLE Coupe'\n",
            " 'Clase M' 'Clase GLE' 'Clase CLA' 'GLB' 'Clase GLK' 'GLA' 'Clase GLC'\n",
            " 'GLE' 'GLC Coupe' 'Clase G' 'CLA' 'Clase X' 'Clase V' 'CLS' 'Clase S'\n",
            " 'Citan' 'Clase GLS' 'GLC Coupé' 'Vito' 'Clase CLS' 'EQC' 'EQA' 'AMG GT'\n",
            " 'Clase SLK' 'Clase T' 'GLA 180 CDI STYLE 110cv'\n",
            " 'Clase E 200 4MATIC AllTerrain Estate' 'EQE' 'MercedesAMG GT' 'GLC'\n",
            " 'Clase SLC' 'GLE Coupe' 'Viano' 'Model 3' 'Model S' 'Model Y' 'Model X'\n",
            " 'Vitara' 'Swift' 'Grand Vitara' 'Jimny' 'SCross' 'Ignis' 'SX4 SCross'\n",
            " 'Baleno' 'Celerio' 'Ibiza' 'Leon' 'Ateca' 'Alhambra' 'Tarraco' 'Arona'\n",
            " 'ALTEA' 'Superb' 'Kamiq' 'Karoq' 'Octavia' 'Toledo' 'Mii' 'Exeo' 'Fabia'\n",
            " 'Scala' 'Kodiaq' 'Scout' 'Rapid' 'Spaceback' 'Yeti' 'Enyaq' 'Citigo'\n",
            " 'XC90' 'XC60' 'V90' 'V40' 'S90' 'XC40' 'S60' 'V60' 'V60 Cross Country'\n",
            " 'V40 Cross Country' 'V90 Cross Country' 'XC70' 'Focus' 'EcoSport'\n",
            " 'Mustang' 'Puma' 'Kuga' 'Mondeo' 'Ranger' 'CMax' 'Galaxy' 'Fiesta' 'SMAX'\n",
            " 'BMAX' 'Tourneo Custom' 'Tourneo Courier' 'KA' 'Transit Connect'\n",
            " 'Grand C-Max' 'Edge' 'F150 RAPTOR SVT 411cv' 'Mustang MachE' 'Kaplus'\n",
            " 'Grand CMax' 'Grand Tourneo Connect' 'Fusion' 'Explorer'\n",
            " 'Tourneo Connect' '500X' '500L' 'Tipo' 'Freemont' '500' 'Punto' 'Panda'\n",
            " '500C' '124 Spider' 'Doblo' 'Qubo' 'Fullback' 'Doblo Panorama' 'Ducato'\n",
            " 'Doblo Cargo' 'DS 4 Crossback' 'DS 7 Crossback' 'DS 3 Crossback' 'DS 4'\n",
            " 'DS 5' 'DS 7 Crossback ETense' 'DS 3' 'ROMA' 'GTC4' '488' '458' 'FF 3 p.'\n",
            " 'F8 TRIBUTO' '812' 'Portofino' 'FF' 'Roma' 'Impreza' 'XV' 'LEVORG'\n",
            " 'Legacy' 'Forester' 'Outback' 'BRZ' 'WRX STI' '695' 'Giulietta' 'Stelvio'\n",
            " 'Giulia' 'MiTo' 'Tonale' 'Trax' 'Orlando' 'Aveo' 'Captiva' 'Cruze'\n",
            " 'CAMARO 2 SS CABRIO V8 6.2i 2019 453CV' 'Camaro' 'Spark'\n",
            " 'Corvette Stingray' 'C4 Picasso' 'Grand C4 Picasso' 'C3 Picasso' 'C3'\n",
            " 'C4' 'CElysee' 'C1' 'Berlingo' 'C3 Aircross' 'Grand C4 Spacetourer'\n",
            " 'C5 Aircross' 'C4 Cactus' 'C5 Aircross Hybrid' 'C5' 'C4 Spacetourer'\n",
            " 'Spacetourer' 'eC4' 'Jumper' 'DS3' 'C4 Aircross' 'DS4' 'C5 X' 'Formentor'\n",
            " 'Born' 'Sandero' 'Duster' 'Dokker' 'Lodgy' 'Logan' 'MINI' 'CLUBMAN'\n",
            " 'Countryman' 'Paceman' 'Space Star' 'Outlander' 'ASX' 'Eclipse Cross'\n",
            " 'L200' 'Montero' 'LEAF' 'QASHQAI' 'NOTE' 'JUKE' 'Micra' 'Navara' 'XTRAIL'\n",
            " 'PULSAR' 'GTR' 'EVALIA' 'NV300' 'Townstar' '370Z' 'NV200 EVALIA'\n",
            " 'Cayenne Coupe' 'Boxster' 'Cayenne' 'Macan' 'Panamera' '911' '718'\n",
            " 'Taycan' 'Cayman']\n",
            "Únicos de la columna \"province\":\n",
            "['Almería' 'Alicante' 'Asturias' 'Madrid' 'Pontevedra' 'Albacete'\n",
            " 'Valencia' 'Barcelona' 'Córdoba' 'Sevilla' 'Baleares' 'Cádiz'\n",
            " 'Sta. C. Tenerife' 'Ciudad Real' 'Lugo' 'León' 'Málaga' 'Granada' 'Jaén'\n",
            " 'Zaragoza' 'Tarragona' 'Murcia' 'La Rioja' 'Burgos' 'Vizcaya' 'A Coruña'\n",
            " 'Las Palmas' 'Álava' 'Zamora' 'Badajoz' 'Navarra' 'Girona' 'Lleida'\n",
            " 'Valladolid' 'Castellón' 'Huelva' 'Cantabria' 'Toledo' 'Cáceres'\n",
            " 'Guipúzcoa' 'Palencia' 'Huesca' 'Guadalajara' 'Salamanca' 'Ávila'\n",
            " 'Teruel' 'Cuenca' 'Ourense' 'Segovia' 'Guip\\\\u00FAzcoa' 'M\\\\u00E1laga'\n",
            " 'Almer\\\\u00EDa' '\\\\u00C1lava' 'Castell\\\\u00F3n' 'Soria' 'C\\\\u00E1diz'\n",
            " 'A Coru\\\\u00F1a' 'C\\\\u00F3rdoba' 'Le\\\\u00F3n' 'C\\\\u00E1ceres' 'Melilla']\n",
            "Únicos de la columna \"transmissiontype\":\n",
            "['AUTOMATIC' 'MANUAL' 'COMMON.TRANSMISSION_MANUAL'\n",
            " 'COMMON.TRANSMISSION_AUTOMATIC']\n",
            "Únicos de la columna \"seller_type\":\n",
            "['profesional' 'particular']\n",
            "Únicos de la columna \"bodytype\":\n",
            "['Berlina' '4x4 SUV' 'Familiar' 'Cabrio' 'Coupe' 'BODY_TYPE_SEDAN'\n",
            " 'BODY_TYPE_MINIVAN' 'BODY_TYPE_4X4' 'BODY_TYPE_FAMILIAR'\n",
            " 'BODY_TYPE_CABRIO' 'BODY_TYPE_COUPE' 'BODY_TYPE_PICK_UP']\n"
          ]
        }
      ]
    },
    {
      "cell_type": "code",
      "source": [
        "from sklearn.model_selection import train_test_split\n",
        "x_train,x_test,y_train, y_test = train_test_split(df,df_TG,random_state=1,train_size=0.80)"
      ],
      "metadata": {
        "id": "wO5KuhzlzXHG"
      },
      "execution_count": 102,
      "outputs": []
    },
    {
      "cell_type": "code",
      "source": [
        "train_dict = x_train[all_feature_names].to_dict(orient='records')\n",
        "test_dict = x_test[all_feature_names].to_dict(orient='records')"
      ],
      "metadata": {
        "id": "tE5SlzRRzbsL"
      },
      "execution_count": 103,
      "outputs": []
    },
    {
      "cell_type": "code",
      "source": [
        "from sklearn.feature_extraction import DictVectorizer\n",
        "\n",
        "dv = DictVectorizer(sparse = False)\n",
        "dv.fit(df.to_dict(orient='records'))\n",
        "X_train = dv.transform(train_dict)"
      ],
      "metadata": {
        "id": "ldK3o_QzzppZ"
      },
      "execution_count": 105,
      "outputs": []
    },
    {
      "cell_type": "code",
      "source": [
        "X_test = dv.transform(test_dict)"
      ],
      "metadata": {
        "id": "MGNKvvQ2zzxr"
      },
      "execution_count": 107,
      "outputs": []
    },
    {
      "cell_type": "markdown",
      "source": [
        "# **Creación de Red Neuronal**\n",
        "\n",
        "---\n",
        "\n"
      ],
      "metadata": {
        "id": "97Tvv9J_0Zt8"
      }
    },
    {
      "cell_type": "markdown",
      "source": [
        "## **Definir modelo**"
      ],
      "metadata": {
        "id": "Nv5uHt-j1Z8G"
      }
    },
    {
      "cell_type": "code",
      "source": [
        "!pip install keras tensorflow"
      ],
      "metadata": {
        "colab": {
          "base_uri": "https://localhost:8080/"
        },
        "id": "WJgVzMYq0e9E",
        "outputId": "86fe4591-3310-41ac-8b33-b638f8f49ae1"
      },
      "execution_count": 108,
      "outputs": [
        {
          "output_type": "stream",
          "name": "stdout",
          "text": [
            "Looking in indexes: https://pypi.org/simple, https://us-python.pkg.dev/colab-wheels/public/simple/\n",
            "Requirement already satisfied: keras in /usr/local/lib/python3.10/dist-packages (2.12.0)\n",
            "Requirement already satisfied: tensorflow in /usr/local/lib/python3.10/dist-packages (2.12.0)\n",
            "Requirement already satisfied: absl-py>=1.0.0 in /usr/local/lib/python3.10/dist-packages (from tensorflow) (1.4.0)\n",
            "Requirement already satisfied: flatbuffers>=2.0 in /usr/local/lib/python3.10/dist-packages (from tensorflow) (23.3.3)\n",
            "Requirement already satisfied: setuptools in /usr/local/lib/python3.10/dist-packages (from tensorflow) (67.7.2)\n",
            "Requirement already satisfied: wrapt<1.15,>=1.11.0 in /usr/local/lib/python3.10/dist-packages (from tensorflow) (1.14.1)\n",
            "Requirement already satisfied: libclang>=13.0.0 in /usr/local/lib/python3.10/dist-packages (from tensorflow) (16.0.0)\n",
            "Requirement already satisfied: google-pasta>=0.1.1 in /usr/local/lib/python3.10/dist-packages (from tensorflow) (0.2.0)\n",
            "Requirement already satisfied: opt-einsum>=2.3.2 in /usr/local/lib/python3.10/dist-packages (from tensorflow) (3.3.0)\n",
            "Requirement already satisfied: h5py>=2.9.0 in /usr/local/lib/python3.10/dist-packages (from tensorflow) (3.8.0)\n",
            "Requirement already satisfied: tensorflow-estimator<2.13,>=2.12.0 in /usr/local/lib/python3.10/dist-packages (from tensorflow) (2.12.0)\n",
            "Requirement already satisfied: protobuf!=4.21.0,!=4.21.1,!=4.21.2,!=4.21.3,!=4.21.4,!=4.21.5,<5.0.0dev,>=3.20.3 in /usr/local/lib/python3.10/dist-packages (from tensorflow) (3.20.3)\n",
            "Requirement already satisfied: gast<=0.4.0,>=0.2.1 in /usr/local/lib/python3.10/dist-packages (from tensorflow) (0.4.0)\n",
            "Requirement already satisfied: tensorboard<2.13,>=2.12 in /usr/local/lib/python3.10/dist-packages (from tensorflow) (2.12.2)\n",
            "Requirement already satisfied: six>=1.12.0 in /usr/local/lib/python3.10/dist-packages (from tensorflow) (1.16.0)\n",
            "Requirement already satisfied: termcolor>=1.1.0 in /usr/local/lib/python3.10/dist-packages (from tensorflow) (2.3.0)\n",
            "Requirement already satisfied: numpy<1.24,>=1.22 in /usr/local/lib/python3.10/dist-packages (from tensorflow) (1.22.4)\n",
            "Requirement already satisfied: grpcio<2.0,>=1.24.3 in /usr/local/lib/python3.10/dist-packages (from tensorflow) (1.54.0)\n",
            "Requirement already satisfied: packaging in /usr/local/lib/python3.10/dist-packages (from tensorflow) (23.1)\n",
            "Requirement already satisfied: jax>=0.3.15 in /usr/local/lib/python3.10/dist-packages (from tensorflow) (0.4.8)\n",
            "Requirement already satisfied: typing-extensions>=3.6.6 in /usr/local/lib/python3.10/dist-packages (from tensorflow) (4.5.0)\n",
            "Requirement already satisfied: astunparse>=1.6.0 in /usr/local/lib/python3.10/dist-packages (from tensorflow) (1.6.3)\n",
            "Requirement already satisfied: tensorflow-io-gcs-filesystem>=0.23.1 in /usr/local/lib/python3.10/dist-packages (from tensorflow) (0.32.0)\n",
            "Requirement already satisfied: wheel<1.0,>=0.23.0 in /usr/local/lib/python3.10/dist-packages (from astunparse>=1.6.0->tensorflow) (0.40.0)\n",
            "Requirement already satisfied: scipy>=1.7 in /usr/local/lib/python3.10/dist-packages (from jax>=0.3.15->tensorflow) (1.10.1)\n",
            "Requirement already satisfied: ml-dtypes>=0.0.3 in /usr/local/lib/python3.10/dist-packages (from jax>=0.3.15->tensorflow) (0.1.0)\n",
            "Requirement already satisfied: tensorboard-data-server<0.8.0,>=0.7.0 in /usr/local/lib/python3.10/dist-packages (from tensorboard<2.13,>=2.12->tensorflow) (0.7.0)\n",
            "Requirement already satisfied: requests<3,>=2.21.0 in /usr/local/lib/python3.10/dist-packages (from tensorboard<2.13,>=2.12->tensorflow) (2.27.1)\n",
            "Requirement already satisfied: werkzeug>=1.0.1 in /usr/local/lib/python3.10/dist-packages (from tensorboard<2.13,>=2.12->tensorflow) (2.3.0)\n",
            "Requirement already satisfied: tensorboard-plugin-wit>=1.6.0 in /usr/local/lib/python3.10/dist-packages (from tensorboard<2.13,>=2.12->tensorflow) (1.8.1)\n",
            "Requirement already satisfied: google-auth<3,>=1.6.3 in /usr/local/lib/python3.10/dist-packages (from tensorboard<2.13,>=2.12->tensorflow) (2.17.3)\n",
            "Requirement already satisfied: google-auth-oauthlib<1.1,>=0.5 in /usr/local/lib/python3.10/dist-packages (from tensorboard<2.13,>=2.12->tensorflow) (1.0.0)\n",
            "Requirement already satisfied: markdown>=2.6.8 in /usr/local/lib/python3.10/dist-packages (from tensorboard<2.13,>=2.12->tensorflow) (3.4.3)\n",
            "Requirement already satisfied: cachetools<6.0,>=2.0.0 in /usr/local/lib/python3.10/dist-packages (from google-auth<3,>=1.6.3->tensorboard<2.13,>=2.12->tensorflow) (5.3.0)\n",
            "Requirement already satisfied: rsa<5,>=3.1.4 in /usr/local/lib/python3.10/dist-packages (from google-auth<3,>=1.6.3->tensorboard<2.13,>=2.12->tensorflow) (4.9)\n",
            "Requirement already satisfied: pyasn1-modules>=0.2.1 in /usr/local/lib/python3.10/dist-packages (from google-auth<3,>=1.6.3->tensorboard<2.13,>=2.12->tensorflow) (0.3.0)\n",
            "Requirement already satisfied: requests-oauthlib>=0.7.0 in /usr/local/lib/python3.10/dist-packages (from google-auth-oauthlib<1.1,>=0.5->tensorboard<2.13,>=2.12->tensorflow) (1.3.1)\n",
            "Requirement already satisfied: idna<4,>=2.5 in /usr/local/lib/python3.10/dist-packages (from requests<3,>=2.21.0->tensorboard<2.13,>=2.12->tensorflow) (3.4)\n",
            "Requirement already satisfied: certifi>=2017.4.17 in /usr/local/lib/python3.10/dist-packages (from requests<3,>=2.21.0->tensorboard<2.13,>=2.12->tensorflow) (2022.12.7)\n",
            "Requirement already satisfied: charset-normalizer~=2.0.0 in /usr/local/lib/python3.10/dist-packages (from requests<3,>=2.21.0->tensorboard<2.13,>=2.12->tensorflow) (2.0.12)\n",
            "Requirement already satisfied: urllib3<1.27,>=1.21.1 in /usr/local/lib/python3.10/dist-packages (from requests<3,>=2.21.0->tensorboard<2.13,>=2.12->tensorflow) (1.26.15)\n",
            "Requirement already satisfied: MarkupSafe>=2.1.1 in /usr/local/lib/python3.10/dist-packages (from werkzeug>=1.0.1->tensorboard<2.13,>=2.12->tensorflow) (2.1.2)\n",
            "Requirement already satisfied: pyasn1<0.6.0,>=0.4.6 in /usr/local/lib/python3.10/dist-packages (from pyasn1-modules>=0.2.1->google-auth<3,>=1.6.3->tensorboard<2.13,>=2.12->tensorflow) (0.5.0)\n",
            "Requirement already satisfied: oauthlib>=3.0.0 in /usr/local/lib/python3.10/dist-packages (from requests-oauthlib>=0.7.0->google-auth-oauthlib<1.1,>=0.5->tensorboard<2.13,>=2.12->tensorflow) (3.2.2)\n"
          ]
        }
      ]
    },
    {
      "cell_type": "code",
      "source": [
        "# instalación de librería gráfica para ver cómo evoluciona la función de pérdida\n",
        "!pip install livelossplot"
      ],
      "metadata": {
        "colab": {
          "base_uri": "https://localhost:8080/"
        },
        "id": "7gdzXyTk05ER",
        "outputId": "916e9336-25b1-479f-9e14-ac6c4c1485b8"
      },
      "execution_count": 109,
      "outputs": [
        {
          "output_type": "stream",
          "name": "stdout",
          "text": [
            "Looking in indexes: https://pypi.org/simple, https://us-python.pkg.dev/colab-wheels/public/simple/\n",
            "Collecting livelossplot\n",
            "  Downloading livelossplot-0.5.5-py3-none-any.whl (22 kB)\n",
            "Requirement already satisfied: matplotlib in /usr/local/lib/python3.10/dist-packages (from livelossplot) (3.7.1)\n",
            "Requirement already satisfied: bokeh in /usr/local/lib/python3.10/dist-packages (from livelossplot) (2.4.3)\n",
            "Requirement already satisfied: PyYAML>=3.10 in /usr/local/lib/python3.10/dist-packages (from bokeh->livelossplot) (6.0)\n",
            "Requirement already satisfied: tornado>=5.1 in /usr/local/lib/python3.10/dist-packages (from bokeh->livelossplot) (6.2)\n",
            "Requirement already satisfied: pillow>=7.1.0 in /usr/local/lib/python3.10/dist-packages (from bokeh->livelossplot) (8.4.0)\n",
            "Requirement already satisfied: typing-extensions>=3.10.0 in /usr/local/lib/python3.10/dist-packages (from bokeh->livelossplot) (4.5.0)\n",
            "Requirement already satisfied: Jinja2>=2.9 in /usr/local/lib/python3.10/dist-packages (from bokeh->livelossplot) (3.1.2)\n",
            "Requirement already satisfied: packaging>=16.8 in /usr/local/lib/python3.10/dist-packages (from bokeh->livelossplot) (23.1)\n",
            "Requirement already satisfied: numpy>=1.11.3 in /usr/local/lib/python3.10/dist-packages (from bokeh->livelossplot) (1.22.4)\n",
            "Requirement already satisfied: pyparsing>=2.3.1 in /usr/local/lib/python3.10/dist-packages (from matplotlib->livelossplot) (3.0.9)\n",
            "Requirement already satisfied: contourpy>=1.0.1 in /usr/local/lib/python3.10/dist-packages (from matplotlib->livelossplot) (1.0.7)\n",
            "Requirement already satisfied: kiwisolver>=1.0.1 in /usr/local/lib/python3.10/dist-packages (from matplotlib->livelossplot) (1.4.4)\n",
            "Requirement already satisfied: python-dateutil>=2.7 in /usr/local/lib/python3.10/dist-packages (from matplotlib->livelossplot) (2.8.2)\n",
            "Requirement already satisfied: cycler>=0.10 in /usr/local/lib/python3.10/dist-packages (from matplotlib->livelossplot) (0.11.0)\n",
            "Requirement already satisfied: fonttools>=4.22.0 in /usr/local/lib/python3.10/dist-packages (from matplotlib->livelossplot) (4.39.3)\n",
            "Requirement already satisfied: MarkupSafe>=2.0 in /usr/local/lib/python3.10/dist-packages (from Jinja2>=2.9->bokeh->livelossplot) (2.1.2)\n",
            "Requirement already satisfied: six>=1.5 in /usr/local/lib/python3.10/dist-packages (from python-dateutil>=2.7->matplotlib->livelossplot) (1.16.0)\n",
            "Installing collected packages: livelossplot\n",
            "Successfully installed livelossplot-0.5.5\n"
          ]
        }
      ]
    },
    {
      "cell_type": "code",
      "source": [
        "plot_losses = livelossplot.PlotLossesKeras()"
      ],
      "metadata": {
        "id": "ZkIEzcyL1IJW"
      },
      "execution_count": 111,
      "outputs": []
    },
    {
      "cell_type": "code",
      "source": [
        "from tensorflow.keras.models import Sequential\n",
        "from tensorflow.keras.layers import Dense\n",
        "from keras.optimizers import Adam\n",
        "import matplotlib.pyplot as plt\n",
        "\n",
        "# Definimos el modelo de Keras\n",
        "model = Sequential()\n",
        "input_shape = len(X_train[0])\n",
        "print('Numero de entradas:',input_shape)\n",
        "\n",
        "model.add(Dense(X_train.shape[1], input_shape=(input_shape,), activation='relu', kernel_initializer='he_uniform'))\n",
        "model.add(Dense(X_train.shape[1]*2, activation='relu', kernel_initializer='he_uniform'))\n",
        "model.add(Dense(1, activation='linear', kernel_initializer='glorot_uniform'))\n",
        "\n",
        "model.summary()"
      ],
      "metadata": {
        "colab": {
          "base_uri": "https://localhost:8080/"
        },
        "id": "WS3d4yLS1Rfl",
        "outputId": "ac60fb13-6db5-4d63-d711-cadfdbf0247d"
      },
      "execution_count": 117,
      "outputs": [
        {
          "output_type": "stream",
          "name": "stdout",
          "text": [
            "Numero de entradas: 636\n",
            "Model: \"sequential_1\"\n",
            "_________________________________________________________________\n",
            " Layer (type)                Output Shape              Param #   \n",
            "=================================================================\n",
            " dense_2 (Dense)             (None, 636)               405132    \n",
            "                                                                 \n",
            " dense_3 (Dense)             (None, 1272)              810264    \n",
            "                                                                 \n",
            " dense_4 (Dense)             (None, 1)                 1273      \n",
            "                                                                 \n",
            "=================================================================\n",
            "Total params: 1,216,669\n",
            "Trainable params: 1,216,669\n",
            "Non-trainable params: 0\n",
            "_________________________________________________________________\n"
          ]
        }
      ]
    },
    {
      "cell_type": "code",
      "source": [
        "batch_size = int(math.sqrt(len(x_train)))"
      ],
      "metadata": {
        "id": "-8oJQLM91V_G"
      },
      "execution_count": 113,
      "outputs": []
    },
    {
      "cell_type": "code",
      "source": [
        "import matplotlib.pyplot as plt\n",
        "\n",
        "# Obtener la estructura del modelo\n",
        "model_layers = [layer.output for layer in model.layers]\n",
        "layer_names = [layer.name for layer in model.layers]\n",
        "\n",
        "# Crear el diagrama\n",
        "fig, ax = plt.subplots(figsize=(12, 6))\n",
        "ax.set_title('Estructura del modelo')\n",
        "ax.axis('off')\n",
        "_ = plt.pie([layer.shape[-1] for layer in model_layers], labels=layer_names, autopct='%1.1f%%')\n",
        "plt.show()"
      ],
      "metadata": {
        "colab": {
          "base_uri": "https://localhost:8080/",
          "height": 521
        },
        "id": "0aRm-tM-61pz",
        "outputId": "d7a2bb14-de02-401f-d783-d98df87082b6"
      },
      "execution_count": 132,
      "outputs": [
        {
          "output_type": "display_data",
          "data": {
            "text/plain": [
              "<Figure size 1200x600 with 1 Axes>"
            ],
            "image/png": "[encoded data removed]"
          },
          "metadata": {}
        }
      ]
    },
    {
      "cell_type": "markdown",
      "source": [
        "## **Entrenar Modelo**"
      ],
      "metadata": {
        "id": "Fg5vT-4R1ea-"
      }
    },
    {
      "cell_type": "code",
      "source": [
        "from keras.callbacks import EarlyStopping\n",
        "from keras.callbacks import ReduceLROnPlateau\n",
        "from keras.optimizers import Adam\n",
        "import math\n",
        "\n",
        "# Definir el optimizador\n",
        "optimizer = Adam(learning_rate=0.01)\n",
        "\n",
        "# Compilar el modelo\n",
        "model.compile(loss='mean_squared_error', optimizer=optimizer)\n",
        "\n",
        "# Definir early stopping\n",
        "early_stop = EarlyStopping(monitor='val_loss', patience=10, mode='min', verbose=0)\n",
        "\n",
        "# Definir reducción del learning rate\n",
        "reduce_lr = ReduceLROnPlateau(monitor='val_loss', factor=0.01, patience=5, min_lr=0.001, mode='min', verbose=0)\n",
        "\n",
        "batch_size=int(math.sqrt(len(X_train)))\n",
        "print(\"batch_size:\",batch_size)\n",
        "\n",
        "# Entrenar el modelo con reducción del learning rate\n",
        "history = model.fit(X_train, y_train, validation_data=(X_test, y_test), epochs=5000, batch_size=batch_size, callbacks=[early_stop,reduce_lr])"
      ],
      "metadata": {
        "colab": {
          "base_uri": "https://localhost:8080/"
        },
        "id": "--96mSVo1iy1",
        "outputId": "61b822eb-1b39-48e0-b609-15c0fda29dcd"
      },
      "execution_count": 118,
      "outputs": [
        {
          "output_type": "stream",
          "name": "stdout",
          "text": [
            "batch_size: 101\n",
            "Epoch 1/5000\n",
            "102/102 [==============================] - 5s 35ms/step - loss: 299094976.0000 - val_loss: 265427200.0000 - lr: 0.0100\n",
            "Epoch 2/5000\n",
            "102/102 [==============================] - 4s 44ms/step - loss: 118612416.0000 - val_loss: 175032896.0000 - lr: 0.0100\n",
            "Epoch 3/5000\n",
            "102/102 [==============================] - 7s 71ms/step - loss: 66407020.0000 - val_loss: 93936432.0000 - lr: 0.0100\n",
            "Epoch 4/5000\n",
            "102/102 [==============================] - 6s 58ms/step - loss: 39339284.0000 - val_loss: 59214396.0000 - lr: 0.0100\n",
            "Epoch 5/5000\n",
            "102/102 [==============================] - 3s 32ms/step - loss: 28268348.0000 - val_loss: 42974160.0000 - lr: 0.0100\n",
            "Epoch 6/5000\n",
            "102/102 [==============================] - 4s 39ms/step - loss: 23531850.0000 - val_loss: 43206236.0000 - lr: 0.0100\n",
            "Epoch 7/5000\n",
            "102/102 [==============================] - 4s 40ms/step - loss: 21674402.0000 - val_loss: 40269968.0000 - lr: 0.0100\n",
            "Epoch 8/5000\n",
            "102/102 [==============================] - 3s 30ms/step - loss: 19303102.0000 - val_loss: 39144432.0000 - lr: 0.0100\n",
            "Epoch 9/5000\n",
            "102/102 [==============================] - 3s 31ms/step - loss: 18942448.0000 - val_loss: 31272116.0000 - lr: 0.0100\n",
            "Epoch 10/5000\n",
            "102/102 [==============================] - 4s 37ms/step - loss: 17229210.0000 - val_loss: 41848880.0000 - lr: 0.0100\n",
            "Epoch 11/5000\n",
            "102/102 [==============================] - 4s 43ms/step - loss: 16721997.0000 - val_loss: 32500608.0000 - lr: 0.0100\n",
            "Epoch 12/5000\n",
            "102/102 [==============================] - 3s 31ms/step - loss: 13899143.0000 - val_loss: 35533956.0000 - lr: 0.0100\n",
            "Epoch 13/5000\n",
            "102/102 [==============================] - 3s 32ms/step - loss: 14264518.0000 - val_loss: 28800982.0000 - lr: 0.0100\n",
            "Epoch 14/5000\n",
            "102/102 [==============================] - 3s 33ms/step - loss: 13311024.0000 - val_loss: 25250404.0000 - lr: 0.0100\n",
            "Epoch 15/5000\n",
            "102/102 [==============================] - 5s 46ms/step - loss: 13555334.0000 - val_loss: 32341736.0000 - lr: 0.0100\n",
            "Epoch 16/5000\n",
            "102/102 [==============================] - 3s 31ms/step - loss: 12694194.0000 - val_loss: 27033504.0000 - lr: 0.0100\n",
            "Epoch 17/5000\n",
            "102/102 [==============================] - 3s 30ms/step - loss: 10696236.0000 - val_loss: 29411000.0000 - lr: 0.0100\n",
            "Epoch 18/5000\n",
            "102/102 [==============================] - 3s 31ms/step - loss: 11146036.0000 - val_loss: 32587518.0000 - lr: 0.0100\n",
            "Epoch 19/5000\n",
            "102/102 [==============================] - 5s 47ms/step - loss: 11431950.0000 - val_loss: 27692740.0000 - lr: 0.0100\n",
            "Epoch 20/5000\n",
            "102/102 [==============================] - 3s 34ms/step - loss: 9515805.0000 - val_loss: 25973910.0000 - lr: 0.0010\n",
            "Epoch 21/5000\n",
            "102/102 [==============================] - 3s 31ms/step - loss: 7761561.5000 - val_loss: 26148902.0000 - lr: 0.0010\n",
            "Epoch 22/5000\n",
            "102/102 [==============================] - 3s 32ms/step - loss: 7531295.0000 - val_loss: 26575016.0000 - lr: 0.0010\n",
            "Epoch 23/5000\n",
            "102/102 [==============================] - 4s 42ms/step - loss: 7409793.0000 - val_loss: 26719150.0000 - lr: 0.0010\n",
            "Epoch 24/5000\n",
            "102/102 [==============================] - 4s 37ms/step - loss: 7279831.0000 - val_loss: 27618302.0000 - lr: 0.0010\n"
          ]
        }
      ]
    },
    {
      "cell_type": "code",
      "source": [
        "test_loss = model.evaluate(X_test, y_test)"
      ],
      "metadata": {
        "colab": {
          "base_uri": "https://localhost:8080/"
        },
        "id": "Imxla3RR3M3p",
        "outputId": "a5e85f3b-988d-4424-8f00-a51b791613ae"
      },
      "execution_count": 120,
      "outputs": [
        {
          "output_type": "stream",
          "name": "stdout",
          "text": [
            "81/81 [==============================] - 1s 11ms/step - loss: 27618302.0000\n"
          ]
        }
      ]
    },
    {
      "cell_type": "code",
      "source": [
        "plt.plot(history.history['loss'])\n",
        "plt.title('Función de Pérdida')\n",
        "plt.xlabel('Época')\n",
        "plt.ylabel('Pérdida')\n",
        "plt.show()"
      ],
      "metadata": {
        "colab": {
          "base_uri": "https://localhost:8080/",
          "height": 474
        },
        "id": "_OKyzt013NQ8",
        "outputId": "3784569c-2fd4-4d93-fa93-318dbf43442e"
      },
      "execution_count": 119,
      "outputs": [
        {
          "output_type": "display_data",
          "data": {
            "text/plain": [
              "<Figure size 640x480 with 1 Axes>"
            ],
            "image/png": "[encoded data removed]"
          },
          "metadata": {}
        }
      ]
    },
    {
      "cell_type": "code",
      "source": [
        "test = {'color': 'WHITE', 'fueltype': 'Gasolina', 'km': '34798', 'make': 'AUDI', 'model': 'A1', 'province': 'Melilla', 'transmissiontype': 'AUTOMATIC', 'year': '2017', 'seller_type': 'profesional', 'bodytype': 'Berlina', 'cubiccapacity': '1598', 'doors': '5', 'hp': '116'}\n",
        "test = dv.transform([dict(test)])\n",
        "model.predict(test)"
      ],
      "metadata": {
        "colab": {
          "base_uri": "https://localhost:8080/"
        },
        "id": "jwKyYrRS3Ogf",
        "outputId": "84d1dfdc-105a-40f0-9ed6-7463e7e0495e"
      },
      "execution_count": 123,
      "outputs": [
        {
          "output_type": "stream",
          "name": "stdout",
          "text": [
            "1/1 [==============================] - 0s 50ms/step\n"
          ]
        },
        {
          "output_type": "execute_result",
          "data": {
            "text/plain": [
              "array([[11123.663]], dtype=float32)"
            ]
          },
          "metadata": {},
          "execution_count": 123
        }
      ]
    },
    {
      "cell_type": "code",
      "source": [
        "y_pred = model.predict(X_test)\n",
        "import numpy as np\n",
        "\n",
        "# Crear un array de índices para los datos de prueba\n",
        "indices = np.arange(15)\n",
        "\n",
        "# Crear un gráfico de barras comparando los valores reales con las predicciones\n",
        "plt.bar(indices, y_test[:15], color='b', alpha=0.5, label='Real')\n",
        "plt.bar(indices, y_pred.flatten()[:15], color='r', alpha=0.5, label='Accuracy')\n",
        "plt.title('Comparación')\n",
        "plt.xlabel('Muestra')\n",
        "plt.ylabel('Valor')\n",
        "plt.legend()\n",
        "plt.show()"
      ],
      "metadata": {
        "colab": {
          "base_uri": "https://localhost:8080/",
          "height": 489
        },
        "id": "bk8CGgYl3Olg",
        "outputId": "78d9e701-36a5-462f-d240-eb5161cdbc37"
      },
      "execution_count": 125,
      "outputs": [
        {
          "output_type": "stream",
          "name": "stdout",
          "text": [
            "81/81 [==============================] - 1s 13ms/step\n"
          ]
        },
        {
          "output_type": "display_data",
          "data": {
            "text/plain": [
              "<Figure size 640x480 with 1 Axes>"
            ],
            "image/png": "[encoded data removed]"
          },
          "metadata": {}
        }
      ]
    },
    {
      "cell_type": "code",
      "source": [
        "import pickle\n",
        "with open('dict_vectorizer_coches_net.pck', 'wb') as f:\n",
        "  pickle.dump((dv), f)\n",
        "model.save('modelo_coches_Red_Neuronal.hdf5')"
      ],
      "metadata": {
        "id": "WkE-7smo3OqO"
      },
      "execution_count": 130,
      "outputs": []
    }
  ]
}